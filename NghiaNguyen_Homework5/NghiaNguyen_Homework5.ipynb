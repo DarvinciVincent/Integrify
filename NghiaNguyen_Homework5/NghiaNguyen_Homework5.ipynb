{
 "cells": [
  {
   "cell_type": "code",
   "execution_count": 125,
   "id": "6cdce224",
   "metadata": {},
   "outputs": [],
   "source": [
    "import math\n",
    "import numpy as np\n",
    "import pandas as pd\n",
    "from scipy.stats import t, norm, ttest_1samp, ttest_ind, ttest_rel, f_oneway, chisquare\n",
    "import statsmodels.api as sm\n",
    "from statsmodels.formula.api import ols\n",
    "import warnings"
   ]
  },
  {
   "cell_type": "code",
   "execution_count": 111,
   "id": "7bf474f6",
   "metadata": {},
   "outputs": [],
   "source": [
    "class ZTest:\n",
    "    \"\"\"Perform a Z-test for a single sample\"\"\"\n",
    "    def __init__(self, sample:list, std, alpha:float, pop_mean):\n",
    "        \"\"\"\n",
    "        Parameters:\n",
    "        -----------\n",
    "        sample: list\n",
    "            A list of numeric values representing the sample data\n",
    "        std: float\n",
    "            The population standard deviation\n",
    "        alpha: float\n",
    "            The significance level for the hypothesis test\n",
    "        pop_mean: float\n",
    "            The population mean to compare the sample mean against\n",
    "        \"\"\"\n",
    "        assert isinstance(sample, list), \"Sample must be a list of numeric values.\"\n",
    "        assert std > 0, \"Standard deviation must be positive.\"\n",
    "        assert 0 < alpha < 1, \"Alpha must be between 0 and 1.\"\n",
    "\n",
    "        self.sample = sample\n",
    "        self.std = std\n",
    "        self.alpha = alpha\n",
    "        self.pop_mean = pop_mean\n",
    "\n",
    "    def test(self) -> str:\n",
    "        \"\"\"Perform the Z-test\"\"\"\n",
    "        sample_mean = np.array(self.sample).mean()\n",
    "        sample_size = len(self.sample)\n",
    "        z = (sample_mean - self.pop_mean) / (self.std / math.sqrt(sample_size))\n",
    "        p_value = 2 * (1 - norm.cdf(abs(z)))\n",
    "\n",
    "        if p_value > self.alpha:\n",
    "            print('Fail to reject H0 (Accept H0). The data are consistent with a hypothesized population mean equal to', self.pop_mean)\n",
    "        else:\n",
    "            print('Reject H0 (Accept H1). The data are not consistent with a hypothesized population mean equal to', self.pop_mean)\n",
    "\n",
    "    def degree_of_freedom(self) -> int:\n",
    "        \"\"\"Calculate the degrees of freedom for the Z-test\"\"\"\n",
    "        df = len(self.sample) - 1\n",
    "        return df\n",
    "\n",
    "    def critical_value(self) -> str:\n",
    "        \"\"\"Calculate the critical value for the Z-test\"\"\"\n",
    "        df = self.degree_of_freedom()\n",
    "        cv = t.ppf(1 - self.alpha / 2, df)  # critical value\n",
    "        print(f\"The critical value given the degree of freedom and the alpha = (+/-) {cv:.3f}\")"
   ]
  },
  {
   "cell_type": "markdown",
   "id": "4b2ba705",
   "metadata": {},
   "source": [
    "1.\tZ-test:\n",
    "Suppose we are testing a new model of cell-phone and want to compare its bandwidth to the previous model.\n",
    "\n",
    "Sample = [4.186, 4.439, 4.781, 4.388, 4.947, 4.853, 4.889, 4.682, 4.428,  4.533, 4.557, 4.761, 4.491, 4.334, 4.83 , 4.268, 4.68 , 4.437, 5.382, 5.111, 5.096, 5.232, 5.033, 5.57 , 4.474, 4.789, 4.725, 4.84 , 4.817, 4.438, 4.754, 4.966, 4.285, 4.482, 4.396, 4.418, 4.514, 5.383, 5.264, 4.309, 5.058, 4.392, 4.788, 4.934, 4.967, 4.554, 4.42 , 5. , 5.126, 5.082, 4.944, 4.658]\n",
    "\n",
    "\n",
    "•\tState the null and alternative hypotheses.\n",
    "•\tUse the Z-test to determine whether the new model has a significantly different bandwidth 4.5 GHz from the previous model with a standard deviation of 0.6 GHz, using a significance level of 0.05.\n",
    "•\tInterpret the results\n"
   ]
  },
  {
   "cell_type": "code",
   "execution_count": 112,
   "id": "c6a71a94",
   "metadata": {},
   "outputs": [
    {
     "name": "stdout",
     "output_type": "stream",
     "text": [
      "Reject H0 (Accept H1). The data are not consistent with a hypothesized population mean equal to 4.5\n"
     ]
    }
   ],
   "source": [
    "Sample = [4.186, 4.439, 4.781, 4.388, 4.947, 4.853, 4.889, 4.682, 4.428,  4.533, 4.557, 4.761, 4.491, 4.334, 4.83 , 4.268, 4.68 , 4.437, 5.382, 5.111, 5.096, 5.232, 5.033, 5.57 , 4.474, 4.789, 4.725, 4.84 , 4.817, 4.438, 4.754, 4.966, 4.285, 4.482, 4.396, 4.418, 4.514, 5.383, 5.264, 4.309, 5.058, 4.392, 4.788, 4.934, 4.967, 4.554, 4.42 , 5. , 5.126, 5.082, 4.944, 4.658]\n",
    "\n",
    "std = 0.6\n",
    "alpha = 0.05\n",
    "pop_mean = 4.5\n",
    "testing = ZTest(Sample, std, alpha, pop_mean)\n",
    "testing.test()"
   ]
  },
  {
   "cell_type": "code",
   "execution_count": 113,
   "id": "b3941471",
   "metadata": {},
   "outputs": [],
   "source": [
    "class TTest:\n",
    "    \"\"\"Perform a t-test\"\"\"\n",
    "    def __init__(self, pop_mean=0):\n",
    "        \"\"\"\n",
    "        Parameters:\n",
    "        -----------\n",
    "        sample: list\n",
    "            A list of numeric values representing the first sample data\n",
    "        alpha: float\n",
    "            The significance level for the hypothesis test\n",
    "        std: float, optional\n",
    "            The population standard deviation (only for one-sample t-test)\n",
    "        pop_mean: float, optional\n",
    "            The population mean to compare the sample mean against (only for one-sample t-test)\n",
    "        \"\"\"\n",
    "\n",
    "        self.pop_mean = pop_mean\n",
    "    \n",
    "    def check(self, p_value, alpha) -> str:\n",
    "        if p_value > alpha:\n",
    "            print('Fail to reject H0 (Accept H0). The mean of the population is equal to', self.pop_mean)\n",
    "        else:\n",
    "            print('Reject H0 (Accept H1). The mean of the population is NOT equal to', self.pop_mean)\n",
    "\n",
    "    def one_sample_test(self, sample:list, alpha:float) -> str:\n",
    "        assert isinstance(sample, list), \"Sample must be a list of numeric values.\"\n",
    "\n",
    "        df = len(sample) - 1\n",
    "        sample_mean = np.array(sample).mean()\n",
    "        sample_size = len(sample)\n",
    "        sample_std = np.std(np.array(sample), ddof = 1)\n",
    "        \n",
    "        t_statistic = (sample_mean - self.pop_mean) / (sample_std / math.sqrt(sample_size))\n",
    "        p_value = 2 * (1 - t.cdf(abs(t_statistic), df))\n",
    "        \n",
    "        \n",
    "        # t_stat, p_value = ttest_1samp(self.sample, self.pop_mean)\n",
    "\n",
    "        print(f\"t-statistic: {t_statistic:.2f}\")\n",
    "        print(f\"p-value:: {p_value:.2f}\")\n",
    "\n",
    "        self.check(p_value, alpha)\n",
    "\n",
    "    def two_sample_test(self, sample1, sample2, alpha:float) -> str:\n",
    "        assert isinstance(sample2, list), \"Sample 2 must be a list of numeric values.\"\n",
    "        assert isinstance(sample1, list), \"Sample 1 must be a list of numeric values.\"\n",
    "\n",
    "\n",
    "        # t_statistic, p_value = ttest_ind(self.sample, sample2, equal_var=False)\n",
    "        n1 = len(sample1)\n",
    "        n2 = len(sample2)\n",
    "        df = n1 + n2 - 2\n",
    "        \n",
    "        sample1_mean = np.array(sample1).mean()\n",
    "        sample2_mean = np.array(sample2).mean()\n",
    "\n",
    "        var1 = np.array(sample1).var(ddof=1)\n",
    "        var2 = np.array(sample2).var(ddof=1)\n",
    "\n",
    "            \n",
    "\n",
    "        t_statistic = (sample1_mean - sample2_mean) / (math.sqrt(var1/n1 + var2/n2))\n",
    "        p_value = round(2 * (1 - t.cdf(abs(t_statistic), df)),5)\n",
    "        \n",
    "\n",
    "        print(f\"t-statistic: {t_statistic:.2f}\")\n",
    "        print(f\"p-value: {p_value:.2f}\")\n",
    "\n",
    "        self.check(p_value, alpha)\n",
    "\n",
    "\n",
    "    def paired_t_test(self, before:list, after:list, alpha:float) -> str:\n",
    "        assert isinstance(before, list), \"before must be a list of numeric values.\"\n",
    "        assert isinstance(after, list), \"after must be a list of numeric values.\"\n",
    "\n",
    "        # t_statistic, p_value = ttest_rel(self.sample, sample2)\n",
    "\n",
    "        n = len(before)\n",
    "        df = n - 1\n",
    "        \n",
    "        diff = np.array(after) - np.array(before)\n",
    "        std = diff.std(ddof=1)\n",
    "        \n",
    "        self.one_sample_test(diff.tolist(), 0)\n",
    "\n",
    "        t_statistic = diff.mean() / (std / math.sqrt(n))\n",
    "        p_value = 2 * (1 - t.cdf(abs(t_statistic), df))\n",
    "        \n",
    "        print(f\"t-statistic: {t_statistic:.2f}\")\n",
    "        print(f\"p-value: {p_value:.2f}\")\n",
    "\n",
    "        self.check(p_value, alpha)"
   ]
  },
  {
   "cell_type": "markdown",
   "id": "26bfce73",
   "metadata": {},
   "source": [
    "One sample T-test: Suppose we have a new manufacturing process for producing aluminum cans, and we want to test whether the mean weight of the cans produced using this new process is significantly different from the target weight of 15 grams. We randomly sample 30 cans produced using the new process and measure their weights in grams. We obtain the following data: \n",
    "\n",
    "Sample = [14.8, 15.2, 15.1, 15.3, 15.0, 14.9, 15.2, 14.8, 15.1, 15.0, 14.9, 14.8, 15.2, 14.9, 15.0, 14.9, 15.1, 15.3, 15.0, 15.1, 14.8, 15.0, 15.2, 15.1, 15.3, 15.1, 15.0, 14.8, 15.2, 15.0]\n",
    "\n",
    "•\tState the null and alternative hypotheses.\n",
    "•\tUse the appropriate T-test to determine whether the mean weight of the produced cans is equal to the target weight of 15 grams, using a significance level of 0.05.\n",
    "•\tInterpret the results"
   ]
  },
  {
   "cell_type": "code",
   "execution_count": 114,
   "id": "e87e2533",
   "metadata": {},
   "outputs": [
    {
     "name": "stdout",
     "output_type": "stream",
     "text": [
      "t-statistic: 1.27\n",
      "p-value:: 0.22\n",
      "Fail to reject H0 (Accept H0). The mean of the population is equal to 15\n"
     ]
    }
   ],
   "source": [
    "Sample = [14.8, 15.2, 15.1, 15.3, 15.0, 14.9, 15.2, 14.8, 15.1, 15.0, 14.9, 14.8, 15.2, 14.9, 15.0, 14.9, 15.1, 15.3, 15.0, 15.1, 14.8, 15.0, 15.2, 15.1, 15.3, 15.1, 15.0, 14.8, 15.2, 15.0]\n",
    "\n",
    "alpha=0.05\n",
    "pop_mean=15\n",
    "    \n",
    "TTest(pop_mean).one_sample_test(Sample, alpha)"
   ]
  },
  {
   "cell_type": "markdown",
   "id": "0831b638",
   "metadata": {},
   "source": [
    "Two Sample T-test: Suppose a food company has developed a new flavor of potato chips and wants to compare it to the current best-selling flavor. The company randomly selects two groups of 20 customers each. The first group is given the new flavor of potato chips, while the second group is given the best-selling flavor. After trying the potato chips, each customer rates the flavor on a scale of 1 to 10. The following are the flavor ratings for the two groups:\n",
    "\n",
    "New flavor = [8, 7, 9, 6, 7, 8, 9, 7, 8, 7, 6, 8, 7, 9, 8, 7, 6, 9, 8, 7]\n",
    "Best selling flavor = [6, 7, 8, 6, 7, 6, 7, 6, 8, 7, 6, 7, 6, 8, 7, 6, 7, 8, 6, 7]\n",
    "\n",
    "State the null and alternative hypotheses.\n",
    "Use the appropriate T-test to determine whether there is a significant difference between the two groups or not, using a significance level of 0.05.\n",
    "Interpret the results"
   ]
  },
  {
   "cell_type": "code",
   "execution_count": 115,
   "id": "74c795a4",
   "metadata": {},
   "outputs": [
    {
     "name": "stdout",
     "output_type": "stream",
     "text": [
      "t-statistic: -2.66\n",
      "p-value: 0.01\n",
      "Reject H0 (Accept H1). The mean of the population is NOT equal to 0\n"
     ]
    }
   ],
   "source": [
    "New_flavor = [8, 7, 9, 6, 7, 8, 9, 7, 8, 7, 6, 8, 7, 9, 8, 7, 6, 9, 8, 7]\n",
    "Old_flavor = [6, 7, 8, 6, 7, 6, 7, 6, 8, 7, 6, 7, 6, 8, 7, 6, 7, 8, 6, 7]\n",
    "alpha = 0.05\n",
    "\n",
    "TTest().two_sample_test(Old_flavor,New_flavor, alpha)"
   ]
  },
  {
   "cell_type": "markdown",
   "id": "e6f8e2b9",
   "metadata": {},
   "source": [
    "Paired T-test: Suppose a company wants to evaluate a new training program for its employees. The company selects 20 employees and measures their productivity before and after the training program. The following are the productivity scores (number of tasks completed per hour) for each employee before and after the training:\n",
    "\n",
    "Before = [15, 18, 12, 10, 17, 16, 12, 14, 19, 18, 11, 13, 16, 17, 19, 14, 16, 13, 15, 12]\n",
    "After = [18, 20, 15, 13, 19, 18, 14, 16, 21, 20, 14, 16, 19, 20, 22, 16, 18, 15, 17, 14]\n",
    "\n",
    "State the null and alternative hypotheses.\n",
    "Use the appropriate T-test to determine whether the new training program has had an effect on employee productivity, with a significance level of 0.05.\n"
   ]
  },
  {
   "cell_type": "code",
   "execution_count": 116,
   "id": "7ad023f7",
   "metadata": {},
   "outputs": [
    {
     "name": "stdout",
     "output_type": "stream",
     "text": [
      "t-statistic: 20.91\n",
      "p-value:: 0.00\n",
      "Fail to reject H0 (Accept H0). The mean of the population is equal to 0.05\n",
      "t-statistic: 21.35\n",
      "p-value: 0.00\n",
      "Reject H0 (Accept H1). The mean of the population is NOT equal to 0.05\n"
     ]
    }
   ],
   "source": [
    "Before = [15, 18, 12, 10, 17, 16, 12, 14, 19, 18, 11, 13, 16, 17, 19, 14, 16, 13, 15, 12]\n",
    "After = [18, 20, 15, 13, 19, 18, 14, 16, 21, 20, 14, 16, 19, 20, 22, 16, 18, 15, 17, 14]\n",
    "alpha = 0.05\n",
    "TTest(alpha).paired_t_test(Before, After, alpha)"
   ]
  },
  {
   "cell_type": "code",
   "execution_count": 117,
   "id": "08597bc6",
   "metadata": {},
   "outputs": [],
   "source": [
    "class ANOVA_Test():\n",
    "    def __init__(self, alpha = 0.05):\n",
    "        self.alpha = alpha\n",
    "    \n",
    "    def one_way_anova(self, sample1:list, sample2:list, sample3:list, alpha:float) -> str:\n",
    "        all_samples = [sample1, sample2, sample3]\n",
    "\n",
    "        f_statistic, p_value = f_oneway(*all_samples)\n",
    "\n",
    "        if p_value < self.alpha:\n",
    "            print('Reject the null hypothesis H0, There is one group mean different from the others')\n",
    "        else:\n",
    "            print('Fail to reject the null hypothesis, all the group means are equal')\n",
    "\n",
    "    def two_way_anova(self, data, dep_var, factor_vars):\n",
    "        # Fit the two-way ANOVA model\n",
    "        model_str = f\"{dep_var} ~ {' + '.join(factor_vars)} + {'*'.join(factor_vars)}\"\n",
    "        model = ols(model_str, data=data).fit()\n",
    "        table = sm.stats.anova_lm(model, typ=2)\n",
    "        \n",
    "        # Print the ANOVA table\n",
    "        print(table)"
   ]
  },
  {
   "cell_type": "markdown",
   "id": "913d019a",
   "metadata": {},
   "source": [
    "One-Way: Suppose a company has three departments (A, B, and C) and wants to test whether there is a significant difference in salaries between the departments. The company selects 10 employees randomly from each department and records their salaries.\n",
    "\n",
    "Department A = [55, 60, 50, 58, 63, 62, 57, 56, 61, 59]\n",
    "Department B = [50, 52, 48, 49, 55, 53, 51, 54, 47, 50]\n",
    "Department C = [45, 43, 48, 50, 42, 47, 49, 46, 44, 48]\n",
    "\n",
    "State the null and alternative hypotheses.\n",
    "Use One-Way ANOVA-test to determine whether there is a significant difference in salaries between the three departments.\n",
    "Interpret the results"
   ]
  },
  {
   "cell_type": "code",
   "execution_count": 118,
   "id": "7634db3c",
   "metadata": {},
   "outputs": [
    {
     "name": "stdout",
     "output_type": "stream",
     "text": [
      "Reject the null hypothesis H0, There is one group mean different from the others\n"
     ]
    }
   ],
   "source": [
    "alpha = 0.05\n",
    "Department_A = [55, 60, 50, 58, 63, 62, 57, 56, 61, 59]\n",
    "Department_B = [50, 52, 48, 49, 55, 53, 51, 54, 47, 50]\n",
    "Department_C = [45, 43, 48, 50, 42, 47, 49, 46, 44, 48]\n",
    "\n",
    "ANOVA_Test().one_way_anova(Department_A, Department_B, Department_C, alpha)"
   ]
  },
  {
   "cell_type": "code",
   "execution_count": 119,
   "id": "632c0f44",
   "metadata": {},
   "outputs": [
    {
     "name": "stdout",
     "output_type": "stream",
     "text": [
      "                       sum_sq    df          F        PR(>F)\n",
      "department         718.466667   2.0  35.104235  7.472321e-08\n",
      "gender               8.533333   1.0   0.833876  3.702368e-01\n",
      "department:gender    3.266667   2.0   0.159609  8.533743e-01\n",
      "Residual           245.600000  24.0        NaN           NaN\n"
     ]
    }
   ],
   "source": [
    "# Create a pandas DataFrame with the given data\n",
    "data = pd.DataFrame({\n",
    "    'department': ['A']*10 + ['B']*10 + ['C']*10,\n",
    "    'gender': ['Male']*5 + ['Female']*5 + ['Male']*5 + ['Female']*5 + ['Male']*5 + ['Female']*5,\n",
    "    'salary': [55, 60, 50, 58, 63, 62, 57, 56, 61, 59, 50, 52, 48, 49, 55, 53, 51, 54, 47, 50, 45, 43, 48, 50, 42, 47, 49, 46, 44, 48]\n",
    "})\n",
    "\n",
    "ANOVA_Test().two_way_anova(data=data, dep_var='salary', factor_vars=['department', 'gender'])"
   ]
  },
  {
   "cell_type": "code",
   "execution_count": 126,
   "id": "ccf28598",
   "metadata": {},
   "outputs": [],
   "source": [
    "class ChiSquare:\n",
    "    def __init__(self, alpha=0.05):\n",
    "        self.alpha = alpha\n",
    "\n",
    "    def test_goodness_of_fit(self, observed, expected):\n",
    "        # Calculate the chi-square statistic and p-value\n",
    "        chi_sq_statistic, p_value = chisquare(observed, expected)\n",
    "\n",
    "        # Determine the degrees of freedom\n",
    "        df = len(observed) - 1\n",
    "\n",
    "        # Print the results\n",
    "        print(f\"Chi-square statistic: {chi_sq_statistic:.2f}\")\n",
    "        print(f\"Degrees of freedom: {df}\")\n",
    "        print(f\"p-value: {p_value:.4f}\")\n",
    "\n",
    "        # Determine the conclusion\n",
    "        if p_value < self.alpha:\n",
    "            print(\"Conclusion: Reject the null hypothesis at alpha =\", self.alpha)\n",
    "        else:\n",
    "            print(\"Conclusion: Fail to reject the null hypothesis at alpha =\", self.alpha)\n"
   ]
  },
  {
   "cell_type": "code",
   "execution_count": 130,
   "id": "3bd83209",
   "metadata": {},
   "outputs": [
    {
     "name": "stdout",
     "output_type": "stream",
     "text": [
      "Chi-square statistic: 5.60\n",
      "Degrees of freedom: 5\n",
      "p-value: 0.3471\n",
      "Conclusion: Fail to reject the null hypothesis at alpha = 0.05\n"
     ]
    }
   ],
   "source": [
    "# Define the observed and expected frequencies\n",
    "observed = [18, 20, 16, 22, 14, 10]\n",
    "N = 100 # simulation\n",
    "expected = [N/len(observed)]*len(observed)\n",
    "\n",
    "# Instantiate the ChiSquare class\n",
    "chi_square = ChiSquare()\n",
    "\n",
    "# Perform the chi-square test\n",
    "chi_square.test_goodness_of_fit(observed, expected)"
   ]
  },
  {
   "cell_type": "code",
   "execution_count": 131,
   "id": "52b8ec30",
   "metadata": {},
   "outputs": [],
   "source": [
    "class ABTesting(TTest):\n",
    "    \"\"\"\n",
    "    Perform an A/B test using the two-sample t-test\n",
    "    \"\"\"\n",
    "\n",
    "    def __init__(self, sample1, sample2, alpha=0.05):\n",
    "        \"\"\"\n",
    "        Parameters:\n",
    "        -----------\n",
    "        sample1: list\n",
    "            A list of numeric values representing the first sample data\n",
    "        sample2: list\n",
    "            A list of numeric values representing the second sample data\n",
    "        alpha: float, optional\n",
    "            The significance level for the hypothesis test\n",
    "        \"\"\"\n",
    "\n",
    "        super().__init__()\n",
    "\n",
    "        self.sample1 = sample1\n",
    "        self.sample2 = sample2\n",
    "        self.alpha = alpha\n",
    "\n",
    "    def run_test(self):\n",
    "        \"\"\"\n",
    "        Run the two-sample t-test and print the results\n",
    "        \"\"\"\n",
    "\n",
    "        self.two_sample_test(self.sample1, self.sample2, self.alpha)"
   ]
  },
  {
   "cell_type": "markdown",
   "id": "625c29ea",
   "metadata": {},
   "source": [
    "A/B testing: Suppose a company has launched a new flavor of soda and wants to test if it has a higher preference than the old flavor. The company conducts a survey with a sample of 30 customers, randomly split into two groups of 15. One group is given the old flavor of soda and the other group is given the new flavor of soda. Each participant rates their preference on a scale of 1 to 10.\n",
    "\n",
    "Old Flavor = [6, 7, 8, 5, 6, 7, 5, 8, 6, 7, 5, 6, 7, 6, 5]\n",
    "New Flavor = [8, 9, 7, 8, 9, 6, 7, 8, 7, 8, 7, 8, 9, 6, 8]\n",
    "\n",
    "State the null and alternative hypotheses.\n",
    "Use two sample t-test to determine whether there is a significant difference in preference between the old and new flavors of soda, with a significance level of 0.05\n",
    "Interpret the results"
   ]
  },
  {
   "cell_type": "code",
   "execution_count": 134,
   "id": "e87fda4c",
   "metadata": {},
   "outputs": [
    {
     "name": "stdout",
     "output_type": "stream",
     "text": [
      "t-statistic: -3.82\n",
      "p-value: 0.00\n",
      "Reject H0 (Accept H1). The mean of the population is NOT equal to 0\n"
     ]
    }
   ],
   "source": [
    "Old_Flavor = [6, 7, 8, 5, 6, 7, 5, 8, 6, 7, 5, 6, 7, 6, 5]\n",
    "New_Flavor = [8, 9, 7, 8, 9, 6, 7, 8, 7, 8, 7, 8, 9, 6, 8]\n",
    "\n",
    "ABTesting(Old_Flavor,New_Flavor).run_test()"
   ]
  }
 ],
 "metadata": {
  "kernelspec": {
   "display_name": "Python 3 (ipykernel)",
   "language": "python",
   "name": "python3"
  },
  "language_info": {
   "codemirror_mode": {
    "name": "ipython",
    "version": 3
   },
   "file_extension": ".py",
   "mimetype": "text/x-python",
   "name": "python",
   "nbconvert_exporter": "python",
   "pygments_lexer": "ipython3",
   "version": "3.9.13"
  }
 },
 "nbformat": 4,
 "nbformat_minor": 5
}
