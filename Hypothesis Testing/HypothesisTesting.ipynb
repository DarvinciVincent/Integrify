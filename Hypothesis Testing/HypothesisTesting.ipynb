{
 "cells": [
  {
   "cell_type": "code",
   "execution_count": 1,
   "id": "bca64ff4",
   "metadata": {},
   "outputs": [],
   "source": [
    "import math\n",
    "import random \n",
    "import numpy as np\n",
    "import matplotlib.pyplot as plt\n",
    "from scipy.stats import t, norm, ttest_1samp"
   ]
  },
  {
   "cell_type": "markdown",
   "id": "ca90e034",
   "metadata": {},
   "source": [
    "# One Smaple T-test:\n",
    "\n",
    "- Suppose we have a dataset of weights (in kg) of 20 randomly selected apples from a farm, and we want to test whether the average weight of the apples is significantly different from 0.5 kg (the expected weight according to the farm's standards)."
   ]
  },
  {
   "cell_type": "code",
   "execution_count": 21,
   "id": "f3f723b5",
   "metadata": {},
   "outputs": [
    {
     "name": "stdout",
     "output_type": "stream",
     "text": [
      "Sample Mean:  0.5005000000000001\n",
      "Null Hypothesis Mean:  0.5\n",
      "Test Statistic:  0.09514162858725647\n",
      "p-value:  0.9251986006149058\n",
      "Fail to reject H0 (Accept H0). The mean of the population is eaual to 0.5\n"
     ]
    }
   ],
   "source": [
    "import numpy as np\n",
    "from scipy.stats import ttest_1samp\n",
    "\n",
    "weights = np.array([0.47, 0.51, 0.49, 0.55, 0.52, 0.48, 0.46, 0.50, 0.51, 0.48, 0.50, 0.49, 0.53, 0.51, 0.48, 0.52, 0.49, 0.50, 0.48, 0.54])\n",
    "\n",
    "# Calculate the sample mean\n",
    "sample_mean = np.mean(weights)\n",
    "\n",
    "# Set the null hypothesis mean to 0.5 kg\n",
    "null_mean = 0.5\n",
    "\n",
    "alpha = 0.05\n",
    "\n",
    "# Perform one-sample t-test\n",
    "test_statistic, p_value = ttest_1samp(weights, null_mean)\n",
    "\n",
    "# Print the results\n",
    "print(\"Sample Mean: \", sample_mean)\n",
    "print(\"Null Hypothesis Mean: \", null_mean)\n",
    "print(\"Test Statistic: \", test_statistic)\n",
    "print(\"p-value: \", p_value)\n",
    "\n",
    "if p_value > alpha:\n",
    "    print('Fail to reject H0 (Accept H0). The mean of the population is equal to', null_mean)\n",
    "else:\n",
    "    print('Reject H0 (Accept H1). The mean of the population is NOT equal to', null_mean)"
   ]
  },
  {
   "cell_type": "markdown",
   "id": "a16c9a7e",
   "metadata": {},
   "source": [
    "# Two-sample/Independent t-test:\n",
    "- Suppose we have two groups of students, Group A and Group B, and we want to test whether there is a significant difference in their average test scores.\n"
   ]
  },
  {
   "cell_type": "code",
   "execution_count": 12,
   "id": "d447be2b",
   "metadata": {},
   "outputs": [
    {
     "name": "stdout",
     "output_type": "stream",
     "text": [
      "Group A Mean:  85.5\n",
      "Group B Mean:  75.4\n",
      "Test Statistic:  4.750056589281463\n",
      "p-value:  0.00015993038562425553\n",
      "Reject H0 (Accept H1). There is a difference p-value = 0.000160 between [0, 0.05]\n"
     ]
    }
   ],
   "source": [
    "import numpy as np\n",
    "from scipy.stats import ttest_ind\n",
    "\n",
    "# Test scores for Group A\n",
    "group_a_scores = np.array([85, 92, 78, 89, 81, 91, 80, 86, 83, 90])\n",
    "\n",
    "# Test scores for Group B\n",
    "group_b_scores = np.array([75, 81, 68, 79, 72, 80, 70, 76, 73, 80])\n",
    "\n",
    "# Perform two-sample t-test\n",
    "test_statistic, p_value = ttest_ind(group_a_scores, group_b_scores)\n",
    "\n",
    "# Print the results\n",
    "print(\"Group A Mean: \", np.mean(group_a_scores))\n",
    "print(\"Group B Mean: \", np.mean(group_b_scores))\n",
    "print(\"Test Statistic: \", test_statistic)\n",
    "print(\"p-value: \", p_value)\n",
    "\n",
    "# H0: there is no difference \n",
    "# H1: there is a difference\n",
    "alpha = 0.05\n",
    "\n",
    "if p_value > alpha:\n",
    "    print('Fail to reject H0 (Accept H0). There is no difference')\n",
    "else:\n",
    "    print('Reject H0 (Accept H1). There is a difference p-value = %f between [0, 0.05]'%p_value)"
   ]
  },
  {
   "cell_type": "markdown",
   "id": "39b69336",
   "metadata": {},
   "source": [
    "# Paired t-test:\n",
    "\n",
    "- Suppose we want to test whether a new drug has a significant effect on reducing blood pressure in a group of patients. We measure the blood pressure of each patient before and after they take the drug, and we want to test whether there is a significant difference between the two measurements."
   ]
  },
  {
   "cell_type": "code",
   "execution_count": 15,
   "id": "67dbbc5c",
   "metadata": {},
   "outputs": [
    {
     "name": "stdout",
     "output_type": "stream",
     "text": [
      "Mean before:  140.0\n",
      "Mean after:  132.6\n",
      "Mean difference:  -7.4\n",
      "Test Statistic:  -12.333333333333334\n",
      "p-value:  6.095053658753298e-07\n",
      "Reject H0 (Accept H1). the drung has an effect on lowering blood pressure\n"
     ]
    }
   ],
   "source": [
    "import numpy as np\n",
    "from scipy.stats import ttest_rel\n",
    "\n",
    "# Blood pressure measurements before and after taking the drug (in mmHg)\n",
    "before = np.array([140, 136, 142, 148, 134, 146, 140, 132, 138, 144])\n",
    "after = np.array([128, 130, 136, 140, 126, 140, 132, 126, 130, 138])\n",
    "\n",
    "# Perform paired t-test\n",
    "test_statistic, p_value = ttest_rel(after, before)\n",
    "\n",
    "# Print the results\n",
    "print(\"Mean before: \", np.mean(before))\n",
    "print(\"Mean after: \", np.mean(after))\n",
    "\n",
    "print(\"Mean difference: \", np.mean(differences))\n",
    "print(\"Test Statistic: \", test_statistic)\n",
    "print(\"p-value: \", p_value)\n",
    "\n",
    "# H1: the drug works\n",
    "# H0: the drung does not work\n",
    "\n",
    "# H1: the drug makes it better\n",
    "# H0: the drug makes it worst\n",
    "\n",
    "# H1: the drug has negative side effect\n",
    "# H0: the drung has positive side effect\n",
    "\n",
    "# H0: the drug has no effect on lowering the blood pressure (u0=u1 -> u0-u1 = 0)\n",
    "# H1: the drung has an effect on lowering the blood pressure (u0!=u1 -> )\n",
    "\n",
    "alpha = 0.05\n",
    "\n",
    "if p_value > alpha:\n",
    "    print('Fail to reject H0 (Accept H0). the drug has no effect on lowering the blood pressure')\n",
    "else:\n",
    "    print('Reject H0 (Accept H1). the drung has an effect on lowering the blood pressure')"
   ]
  },
  {
   "cell_type": "markdown",
   "id": "920366b0",
   "metadata": {},
   "source": [
    "# One-way ANOVA\n",
    "\n",
    "- Suppose you have data on the weight of fish caught by three different fishing boats, and you want to determine whether there is a significant difference in the mean weight of fish caught by each boat. You can use one-way ANOVA to test this hypothesis."
   ]
  },
  {
   "cell_type": "code",
   "execution_count": 32,
   "id": "7d9ff989",
   "metadata": {},
   "outputs": [
    {
     "name": "stdout",
     "output_type": "stream",
     "text": [
      "F-statistic: 1.0424534530569127\n",
      "p-value: 0.3729272665567619\n",
      "Fail to reject H0 (Accept H0). there is no difference in the mean weight of fish caught by the three boats.\n",
      "3.8428571428571425 4.1571428571428575 5.0\n"
     ]
    }
   ],
   "source": [
    "import pandas as pd\n",
    "from scipy.stats import f_oneway\n",
    "\n",
    "# H0: u0=u1=u2\n",
    "\n",
    "df = pd.DataFrame({'Boat A': [2.2, 3.3, 3.4, 4.5, 5.6, 3.4, 4.5],\n",
    "                   'Boat B': [2.3, 3.4, 4.5, 5.6, 6.7, 4.5, 2.1],\n",
    "                   'Boat C': [3.4, 4.5, 5.6, 6.7, 7.8, 3.0, 4.0]})\n",
    "\n",
    "f_stat, p_val = f_oneway(df['Boat A'], df['Boat B'], df['Boat C'])\n",
    "\n",
    "print('F-statistic:', f_stat)\n",
    "print('p-value:', p_val)\n",
    "\n",
    "alpha = 0.05\n",
    "\n",
    "if p_val > alpha:\n",
    "    print('Fail to reject H0 (Accept H0). there is no difference in the mean weight of fish caught by the three boats.')\n",
    "    print(df['Boat A'].mean(), df['Boat B'].mean(), df['Boat C'].mean())\n",
    "else:\n",
    "    print('Reject H0 (Accept H1). there is a significant difference in the mean weight of fish caught by the three boats.')\n",
    "    \n",
    "# p_value ---->---alpha, P-value....<=..... alpha\n",
    "#             H0                  H1    "
   ]
  },
  {
   "cell_type": "code",
   "execution_count": null,
   "id": "fa342d07",
   "metadata": {},
   "outputs": [],
   "source": []
  },
  {
   "cell_type": "code",
   "execution_count": 36,
   "id": "710a9a68",
   "metadata": {},
   "outputs": [
    {
     "name": "stdout",
     "output_type": "stream",
     "text": [
      "F-statistic: 4.666666666666668\n",
      "p-value: 0.031676352024078334\n",
      "Reject H0 (Accept H1). there is a significant difference in the mean sales in the three cities.\n",
      "120.0 100.0 90.0\n"
     ]
    }
   ],
   "source": [
    "city1_sales = [100, 110, 120, 130, 140]#, 115, 125\n",
    "city2_sales = [80, 90, 100, 110, 120]\n",
    "city3_sales = [70, 80, 90, 100, 110]\n",
    "\n",
    "# H0: u1 = u2 = u3\n",
    "# H1: it exist one group mean that is not equal to the rest\n",
    "\n",
    "df = pd.DataFrame({'City1': city1_sales, 'City2': city2_sales, 'City3': city3_sales})\n",
    "\n",
    "f_stat, p_val = f_oneway(df['City1'], df['City2'], df['City3'])\n",
    "\n",
    "print('F-statistic:', f_stat)\n",
    "print('p-value:', p_val)\n",
    "\n",
    "alpha = 0.05\n",
    "\n",
    "if p_val > alpha:\n",
    "    print('Fail to reject H0 (Accept H0). there is no difference in the mean sales in the three cities.')\n",
    "else:\n",
    "    print('Reject H0 (Accept H1). there is a significant difference in the mean sales in the three cities.')\n",
    "print(df['City1'].mean(), df['City2'].mean(), df['City3'].mean())"
   ]
  }
 ],
 "metadata": {
  "kernelspec": {
   "display_name": "Python 3 (ipykernel)",
   "language": "python",
   "name": "python3"
  },
  "language_info": {
   "codemirror_mode": {
    "name": "ipython",
    "version": 3
   },
   "file_extension": ".py",
   "mimetype": "text/x-python",
   "name": "python",
   "nbconvert_exporter": "python",
   "pygments_lexer": "ipython3",
   "version": "3.9.13"
  }
 },
 "nbformat": 4,
 "nbformat_minor": 5
}
