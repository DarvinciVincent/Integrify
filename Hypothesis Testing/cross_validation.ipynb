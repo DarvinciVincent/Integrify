{
 "cells": [
  {
   "cell_type": "markdown",
   "id": "4618392a",
   "metadata": {},
   "source": [
    "# K-fold cross-validation"
   ]
  },
  {
   "cell_type": "code",
   "execution_count": 8,
   "id": "6313a82a",
   "metadata": {},
   "outputs": [
    {
     "name": "stdout",
     "output_type": "stream",
     "text": [
      "Cross Validation Score: [1.         1.         0.72727273 0.47619048 0.95238095 0.61904762\n",
      " 0.71428571]\n",
      "Average Cross Validation Score: 0.7841682127396414\n"
     ]
    }
   ],
   "source": [
    "from sklearn.datasets import load_iris\n",
    "from sklearn.preprocessing import MinMaxScaler\n",
    "from sklearn.linear_model import LogisticRegression\n",
    "from sklearn.model_selection import KFold, cross_val_score\n",
    "from sklearn.pipeline import make_pipeline\n",
    "\n",
    "# Load the Iris dataset\n",
    "iris = load_iris()\n",
    "X = iris.data\n",
    "Y = iris.target\n",
    "\n",
    "# Step 1: Scale the data\n",
    "scaler = MinMaxScaler()\n",
    "X_scaled = scaler.fit_transform(X)\n",
    "\n",
    "# Step 2: Create and fit the logistic regression model\n",
    "model = make_pipeline(scaler, LogisticRegression(max_iter=1000))\n",
    "\n",
    "# Step 3: Perform cross-validation\n",
    "k_fold = KFold(n_splits=7)\n",
    "scores = cross_val_score(model, X_scaled, Y, cv=k_fold)\n",
    "\n",
    "# Step 4: Print the cross-validation scores\n",
    "print(\"Cross Validation Score: {}\".format(scores))\n",
    "print(\"Average Cross Validation Score: {}\".format(scores.mean()))\n"
   ]
  },
  {
   "cell_type": "markdown",
   "id": "957d9b69",
   "metadata": {},
   "source": [
    "# Holdout cross-validation"
   ]
  },
  {
   "cell_type": "code",
   "execution_count": 9,
   "id": "f131a12f",
   "metadata": {},
   "outputs": [
    {
     "name": "stdout",
     "output_type": "stream",
     "text": [
      "Training accuracy: 0.9107142857142857\n",
      "Testing accuracy: 0.9736842105263158\n"
     ]
    }
   ],
   "source": [
    "from sklearn.datasets import load_iris\n",
    "from sklearn.preprocessing import MinMaxScaler\n",
    "from sklearn.linear_model import LogisticRegression\n",
    "from sklearn.model_selection import cross_val_score, train_test_split\n",
    "from sklearn.pipeline import make_pipeline\n",
    "from sklearn.metrics import accuracy_score\n",
    "\n",
    "# Load the Iris dataset\n",
    "iris = load_iris()\n",
    "X = iris.data\n",
    "Y = iris.target\n",
    "\n",
    "# Step 1: Scale the data\n",
    "scaler = MinMaxScaler()\n",
    "X_scaled = scaler.fit_transform(X)\n",
    "\n",
    "lr = LogisticRegression()\n",
    "\n",
    "# Step 2: Split the data into training and testing sets\n",
    "x_train, x_test, y_train, y_test = train_test_split(X_scaled, Y, test_size=0.25, random_state=42)\n",
    "\n",
    "# Step 3: Fit the logistic regression model on the training data\n",
    "lr.fit(x_train, y_train)\n",
    "\n",
    "# Step 4: Make predictions on the testing data\n",
    "results = lr.predict(x_test)\n",
    "\n",
    "# Step 5: Calculate and print the accuracy\n",
    "print(\"Training accuracy: {}\".format(accuracy_score(lr.predict(x_train), y_train)))\n",
    "print(\"Testing accuracy: {}\".format(accuracy_score(results, y_test)))"
   ]
  },
  {
   "cell_type": "markdown",
   "id": "6ba3b9d7",
   "metadata": {},
   "source": [
    "# Stratified k-fold cross-validation"
   ]
  },
  {
   "cell_type": "code",
   "execution_count": 16,
   "id": "2788fad0",
   "metadata": {},
   "outputs": [
    {
     "name": "stdout",
     "output_type": "stream",
     "text": [
      "Cross Validation Score: [0.88 0.94 0.92]\n",
      "Average Cross Validation Score: 0.9133333333333332\n"
     ]
    }
   ],
   "source": [
    "from sklearn.datasets import load_iris\n",
    "from sklearn.preprocessing import MinMaxScaler\n",
    "from sklearn.linear_model import LogisticRegression\n",
    "from sklearn.model_selection import StratifiedKFold, cross_val_score\n",
    "from sklearn.pipeline import make_pipeline\n",
    "\n",
    "# Load the Iris dataset\n",
    "iris = load_iris()\n",
    "X = iris.data\n",
    "Y = iris.target\n",
    "\n",
    "# Step 1: Scale the data\n",
    "scaler = MinMaxScaler()\n",
    "X_scaled = scaler.fit_transform(X)\n",
    "\n",
    "# Step 2: Create and fit the logistic regression model\n",
    "model = make_pipeline(scaler, LogisticRegression(max_iter=1000))\n",
    "\n",
    "# Step 3: Perform cross-validation\n",
    "st_kf = StratifiedKFold(n_splits=3)\n",
    "scores = cross_val_score(model, X_scaled, Y, cv=st_kf)\n",
    "\n",
    "# Step 4: Print the cross-validation scores\n",
    "print(\"Cross Validation Score: {}\".format(scores))\n",
    "print(\"Average Cross Validation Score: {}\".format(scores.mean()))"
   ]
  },
  {
   "cell_type": "markdown",
   "id": "74228a34",
   "metadata": {},
   "source": [
    "# Leave-one-out cross-validation"
   ]
  },
  {
   "cell_type": "code",
   "execution_count": 19,
   "id": "b1df2da0",
   "metadata": {},
   "outputs": [
    {
     "name": "stdout",
     "output_type": "stream",
     "text": [
      "Cross Validation Score: [1. 1. 1. 1. 1. 1. 1. 1. 1. 1. 1. 1. 1. 1. 1. 1. 1. 1. 1. 1. 1. 1. 1. 1.\n",
      " 1. 1. 1. 1. 1. 1. 1. 1. 1. 1. 1. 1. 1. 1. 1. 1. 1. 1. 1. 1. 1. 1. 1. 1.\n",
      " 1. 1. 1. 1. 1. 1. 1. 1. 1. 1. 1. 1. 1. 1. 1. 1. 1. 1. 1. 1. 1. 1. 0. 1.\n",
      " 1. 1. 1. 1. 1. 0. 1. 1. 1. 1. 1. 0. 1. 1. 1. 1. 1. 1. 1. 1. 1. 1. 1. 1.\n",
      " 1. 1. 1. 1. 1. 1. 1. 1. 1. 1. 0. 1. 1. 1. 1. 1. 1. 1. 1. 1. 1. 1. 1. 0.\n",
      " 1. 1. 1. 1. 1. 1. 1. 1. 1. 0. 1. 1. 1. 0. 0. 1. 1. 1. 0. 1. 1. 1. 1. 1.\n",
      " 1. 1. 1. 1. 1. 1.]\n",
      "Average Cross Validation Score: 0.94\n"
     ]
    }
   ],
   "source": [
    "from sklearn.datasets import load_iris\n",
    "from sklearn.preprocessing import MinMaxScaler\n",
    "from sklearn.ensemble import RandomForestClassifier\n",
    "from sklearn.model_selection import LeaveOneOut, cross_val_score\n",
    "from sklearn.pipeline import make_pipeline\n",
    "\n",
    "# Load the Iris dataset\n",
    "iris = load_iris()\n",
    "X = iris.data\n",
    "Y = iris.target\n",
    "\n",
    "# Step 1: Scale the data\n",
    "scaler = MinMaxScaler()\n",
    "X_scaled = scaler.fit_transform(X)\n",
    "\n",
    "rfc = RandomForestClassifier(n_estimators=7, max_depth=4, n_jobs=-1)\n",
    "\n",
    "# Step 2: Create and fit the random forest classifier model\n",
    "model = make_pipeline(scaler, rfc)\n",
    "\n",
    "# Step 3: Perform cross-validation\n",
    "leave_one_out = LeaveOneOut()\n",
    "scores = cross_val_score(model, X_scaled, Y, cv=leave_one_out)\n",
    "\n",
    "# Step 4: Print the cross-validation scores\n",
    "print(\"Cross Validation Score: {}\".format(scores))\n",
    "print(\"Average Cross Validation Score: {}\".format(scores.mean()))"
   ]
  }
 ],
 "metadata": {
  "kernelspec": {
   "display_name": "Python 3 (ipykernel)",
   "language": "python",
   "name": "python3"
  },
  "language_info": {
   "codemirror_mode": {
    "name": "ipython",
    "version": 3
   },
   "file_extension": ".py",
   "mimetype": "text/x-python",
   "name": "python",
   "nbconvert_exporter": "python",
   "pygments_lexer": "ipython3",
   "version": "3.9.13"
  }
 },
 "nbformat": 4,
 "nbformat_minor": 5
}
