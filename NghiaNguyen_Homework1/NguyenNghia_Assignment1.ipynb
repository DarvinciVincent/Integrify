{
 "cells": [
  {
   "cell_type": "code",
   "execution_count": 33,
   "metadata": {},
   "outputs": [
    {
     "name": "stdout",
     "output_type": "stream",
     "text": [
      "7\n"
     ]
    },
    {
     "data": {
      "text/plain": [
       "10"
      ]
     },
     "execution_count": 33,
     "metadata": {},
     "output_type": "execute_result"
    }
   ],
   "source": [
    "# Task 1\n",
    "\n",
    "# Integer\n",
    "x = int(7)\n",
    "print(x)\n",
    "\n",
    "# Using object literal\n",
    "y = 10\n",
    "y"
   ]
  },
  {
   "cell_type": "code",
   "execution_count": 34,
   "metadata": {},
   "outputs": [
    {
     "name": "stdout",
     "output_type": "stream",
     "text": [
      "{'apple', 'banana', 'cherry'}\n"
     ]
    },
    {
     "data": {
      "text/plain": [
       "{'bird', 'cat', 'dog'}"
      ]
     },
     "execution_count": 34,
     "metadata": {},
     "output_type": "execute_result"
    }
   ],
   "source": [
    "# set\n",
    "x = set((\"apple\", \"banana\", \"cherry\"))\n",
    "print(x)\n",
    "\n",
    "# Using object literal\n",
    "y = {\"dog\", \"cat\", \"bird\"}\n",
    "y"
   ]
  },
  {
   "cell_type": "code",
   "execution_count": 35,
   "metadata": {},
   "outputs": [
    {
     "name": "stdout",
     "output_type": "stream",
     "text": [
      "{'datascientist': 'ML', 'name': 'Integrify', 'members': 36}\n"
     ]
    },
    {
     "data": {
      "text/plain": [
       "{'datascientist': 'ML', 'name': 'Integrify', 'member': 36}"
      ]
     },
     "execution_count": 35,
     "metadata": {},
     "output_type": "execute_result"
    }
   ],
   "source": [
    "# dictionary\n",
    "x = dict(datascientist = \"ML\", name = \"Integrify\", members = 36)\n",
    "print(x)\n",
    "\n",
    "# Using object literal\n",
    "y = {\"datascientist\":\"ML\", \"name\":\"Integrify\", \"member\":36}\n",
    "y"
   ]
  },
  {
   "cell_type": "code",
   "execution_count": 36,
   "metadata": {},
   "outputs": [
    {
     "name": "stdout",
     "output_type": "stream",
     "text": [
      "('apple', 'banana', 'cherry')\n"
     ]
    },
    {
     "data": {
      "text/plain": [
       "('apple', 'banana', 'cherry')"
      ]
     },
     "execution_count": 36,
     "metadata": {},
     "output_type": "execute_result"
    }
   ],
   "source": [
    "# tuple\n",
    "x = tuple((\"apple\", \"banana\", \"cherry\"))\n",
    "print(x)\n",
    "\n",
    "# Using object literal\n",
    "y = (\"apple\", \"banana\", \"cherry\")\n",
    "y"
   ]
  },
  {
   "cell_type": "code",
   "execution_count": 37,
   "metadata": {},
   "outputs": [
    {
     "name": "stdout",
     "output_type": "stream",
     "text": [
      "[7, 10, 'Integrify', 'ML']\n"
     ]
    },
    {
     "data": {
      "text/plain": [
       "[7, 10, 'Integrify', 'ML']"
      ]
     },
     "execution_count": 37,
     "metadata": {},
     "output_type": "execute_result"
    }
   ],
   "source": [
    "# list\n",
    "x = list((7, 10, \"Integrify\", \"ML\"))\n",
    "print(x)\n",
    "\n",
    "# Using object literal\n",
    "y = [7, 10, \"Integrify\", \"ML\"]\n",
    "y"
   ]
  },
  {
   "cell_type": "code",
   "execution_count": 38,
   "metadata": {},
   "outputs": [
    {
     "name": "stdout",
     "output_type": "stream",
     "text": [
      "7.7\n"
     ]
    },
    {
     "data": {
      "text/plain": [
       "10.7"
      ]
     },
     "execution_count": 38,
     "metadata": {},
     "output_type": "execute_result"
    }
   ],
   "source": [
    "# float\n",
    "x = float(7.7)\n",
    "print(x)\n",
    "\n",
    "# Using object literal\n",
    "y = 10.7\n",
    "y"
   ]
  },
  {
   "cell_type": "code",
   "execution_count": 39,
   "metadata": {},
   "outputs": [
    {
     "name": "stdout",
     "output_type": "stream",
     "text": [
      "hello world\n"
     ]
    },
    {
     "data": {
      "text/plain": [
       "'Welcome to Integrify'"
      ]
     },
     "execution_count": 39,
     "metadata": {},
     "output_type": "execute_result"
    }
   ],
   "source": [
    "# string\n",
    "x = str(\"hello world\")\n",
    "print(x)\n",
    "\n",
    "# Using object literal\n",
    "y = \"Welcome to Integrify\"\n",
    "y"
   ]
  },
  {
   "cell_type": "code",
   "execution_count": 40,
   "metadata": {},
   "outputs": [
    {
     "name": "stdout",
     "output_type": "stream",
     "text": [
      "15\n",
      "5\n",
      "50\n",
      "2.0\n",
      "0\n",
      "100000\n",
      "2\n"
     ]
    }
   ],
   "source": [
    "# Task 2\n",
    "a = 10\n",
    "b = 5\n",
    "\n",
    "# addition operator\n",
    "print(a + b)  # Output: 15\n",
    "\n",
    "# subtraction operator\n",
    "print(a - b)  # Output: 5\n",
    "\n",
    "# multiplication operator\n",
    "print(a * b)  # Output: 50\n",
    "\n",
    "# division operator\n",
    "print(a / b)  # Output: 2.0\n",
    "\n",
    "# modulus operator\n",
    "print(a % b)  # Output: 0\n",
    "\n",
    "# exponentiation operator\n",
    "print(a ** b)  # Output: 100000\n",
    "\n",
    "# floor division operator\n",
    "print(a // b)  # Output: 2\n"
   ]
  },
  {
   "cell_type": "code",
   "execution_count": 41,
   "metadata": {},
   "outputs": [
    {
     "name": "stdout",
     "output_type": "stream",
     "text": [
      "['__abs__', '__add__', '__and__', '__bool__', '__ceil__', '__class__', '__delattr__', '__dir__', '__divmod__', '__doc__', '__eq__', '__float__', '__floor__', '__floordiv__', '__format__', '__ge__', '__getattribute__', '__getnewargs__', '__gt__', '__hash__', '__index__', '__init__', '__init_subclass__', '__int__', '__invert__', '__le__', '__lshift__', '__lt__', '__mod__', '__mul__', '__ne__', '__neg__', '__new__', '__or__', '__pos__', '__pow__', '__radd__', '__rand__', '__rdivmod__', '__reduce__', '__reduce_ex__', '__repr__', '__rfloordiv__', '__rlshift__', '__rmod__', '__rmul__', '__ror__', '__round__', '__rpow__', '__rrshift__', '__rshift__', '__rsub__', '__rtruediv__', '__rxor__', '__setattr__', '__sizeof__', '__str__', '__sub__', '__subclasshook__', '__truediv__', '__trunc__', '__xor__', 'as_integer_ratio', 'bit_count', 'bit_length', 'conjugate', 'denominator', 'from_bytes', 'imag', 'numerator', 'real', 'to_bytes']\n",
      "17\n",
      "<class 'int'>\n",
      "True\n",
      "['__add__', '__class__', '__contains__', '__delattr__', '__dir__', '__doc__', '__eq__', '__format__', '__ge__', '__getattribute__', '__getitem__', '__getnewargs__', '__gt__', '__hash__', '__init__', '__init_subclass__', '__iter__', '__le__', '__len__', '__lt__', '__mod__', '__mul__', '__ne__', '__new__', '__reduce__', '__reduce_ex__', '__repr__', '__rmod__', '__rmul__', '__setattr__', '__sizeof__', '__str__', '__subclasshook__', 'capitalize', 'casefold', 'center', 'count', 'encode', 'endswith', 'expandtabs', 'find', 'format', 'format_map', 'index', 'isalnum', 'isalpha', 'isascii', 'isdecimal', 'isdigit', 'isidentifier', 'islower', 'isnumeric', 'isprintable', 'isspace', 'istitle', 'isupper', 'join', 'ljust', 'lower', 'lstrip', 'maketrans', 'partition', 'removeprefix', 'removesuffix', 'replace', 'rfind', 'rindex', 'rjust', 'rpartition', 'rsplit', 'rstrip', 'split', 'splitlines', 'startswith', 'strip', 'swapcase', 'title', 'translate', 'upper', 'zfill']\n",
      "Welcome to integrify\n",
      "WELCOME TO INTEGRIFY\n",
      "<class 'str'>\n",
      "True\n",
      "['__add__', '__class__', '__class_getitem__', '__contains__', '__delattr__', '__delitem__', '__dir__', '__doc__', '__eq__', '__format__', '__ge__', '__getattribute__', '__getitem__', '__gt__', '__hash__', '__iadd__', '__imul__', '__init__', '__init_subclass__', '__iter__', '__le__', '__len__', '__lt__', '__mul__', '__ne__', '__new__', '__reduce__', '__reduce_ex__', '__repr__', '__reversed__', '__rmul__', '__setattr__', '__setitem__', '__sizeof__', '__str__', '__subclasshook__', 'append', 'clear', 'copy', 'count', 'extend', 'index', 'insert', 'pop', 'remove', 'reverse', 'sort']\n",
      "[1, 2, 3, 4, 5]\n",
      "[5, 4, 3, 2, 1]\n",
      "<class 'list'>\n",
      "True\n",
      "['__class__', '__class_getitem__', '__contains__', '__delattr__', '__delitem__', '__dir__', '__doc__', '__eq__', '__format__', '__ge__', '__getattribute__', '__getitem__', '__gt__', '__hash__', '__init__', '__init_subclass__', '__ior__', '__iter__', '__le__', '__len__', '__lt__', '__ne__', '__new__', '__or__', '__reduce__', '__reduce_ex__', '__repr__', '__reversed__', '__ror__', '__setattr__', '__setitem__', '__sizeof__', '__str__', '__subclasshook__', 'clear', 'copy', 'fromkeys', 'get', 'items', 'keys', 'pop', 'popitem', 'setdefault', 'update', 'values']\n",
      "dict_keys(['a', 'b', 'c'])\n",
      "dict_values([1, 2, 3])\n",
      "<class 'dict'>\n",
      "True\n"
     ]
    }
   ],
   "source": [
    "# Task 3\n",
    "a = 7\n",
    "print(dir(a))\n",
    "\n",
    "print(a.__add__(10))\n",
    "print(type(a)) \n",
    "print(isinstance(a, int))\n",
    "\n",
    "# String object\n",
    "b = \"Welcome to Integrify\"\n",
    "print(dir(b))\n",
    "\n",
    "print(b.capitalize())  \n",
    "print(b.upper()) \n",
    "print(type(b)) \n",
    "print(isinstance(b, str))  \n",
    "\n",
    "# List object\n",
    "c = [1, 2, 3, 4]\n",
    "print(dir(c))\n",
    "\n",
    "c.append(5) \n",
    "print(c)\n",
    "c.reverse() \n",
    "print(c)\n",
    "print(type(c))  \n",
    "print(isinstance(c, list)) \n",
    "\n",
    "# Dictionary object\n",
    "d = {'a': 1, 'b': 2, 'c': 3}\n",
    "print(dir(d))\n",
    "\n",
    "print(d.keys()) \n",
    "print(d.values()) \n",
    "print(type(d))  \n",
    "print(isinstance(d, dict))  "
   ]
  },
  {
   "cell_type": "code",
   "execution_count": 60,
   "metadata": {},
   "outputs": [
    {
     "name": "stdout",
     "output_type": "stream",
     "text": [
      "Welcome to Integrify\n",
      "Welcome to Integrify\n",
      "I love python version 3.10\n",
      "I love python version 3.10\n"
     ]
    }
   ],
   "source": [
    "# task 4\n",
    "print(\"Welcome to\", \"Integrify\")\n",
    "print(\"Welcome to\"+ \" Integrify\")\n",
    "info = {\"pl\":\"python\", \"version\":3.10}\n",
    "print(f\"I love {info.get('pl')} version {info.get('version'):.2f}\")\n",
    "print(f'I love {info[\"pl\"]} version {info[\"version\"]:.2f}')\n"
   ]
  },
  {
   "cell_type": "code",
   "execution_count": 103,
   "metadata": {},
   "outputs": [
    {
     "name": "stdout",
     "output_type": "stream",
     "text": [
      "1\n",
      "['Sweden', 'Denmark', 'Netherlands', 'Germany', 'Norway', 'Iceland']\n",
      "['Finland', 'Sweden', 'Denmark', 'Netherlands', 'Germany', 'Norway']\n",
      "Iceland\n",
      "['Germany', 'Norway', 'Iceland']\n",
      "['Finland', 'Denmark', 'Germany', 'Iceland']\n",
      "['Finland', 'Iceland']\n",
      "['Netherlands', 'Germany', 'Norway']\n",
      "['Iceland', 'Norway', 'Germany', 'Netherlands', 'Denmark', 'Sweden', 'Finland']\n",
      "['Iceland', 'Germany', 'Denmark', 'Finland']\n",
      "['Sweden', 'Netherlands', 'Norway']\n",
      "[]\n",
      "['Germany', 'Netherlands', 'Denmark']\n",
      "[(0, 'Finland'), (1, 'Sweden'), (2, 'Denmark'), (3, 'Netherlands'), (4, 'Germany'), (5, 'Norway'), (6, 'Iceland')]\n"
     ]
    }
   ],
   "source": [
    "# task 5\n",
    "# a.\n",
    "countries = [\"Finland\",\"Sweden\",\"Denmark\",\"Netherlands\",\"Germany\",\"Norway\",\"Iceland\"]\n",
    "\n",
    "# b.\n",
    "print(countries.index(\"Sweden\"))\n",
    "\n",
    "# c.\n",
    "print(countries[1::])\n",
    "\n",
    "# d.\n",
    "print(countries[:-1])\n",
    "\n",
    "# e.\n",
    "print(countries[-1])\n",
    "\n",
    "# f.\n",
    "print(countries[-3:])\n",
    "\n",
    "# g.\n",
    "print(countries[::2])\n",
    "\n",
    "# h.\n",
    "print(countries[::len(countries)-1])\n",
    "\n",
    "# i.\n",
    "print(countries[-4:-1])\n",
    "\n",
    "# j.\n",
    "print(countries[::-1])\n",
    "\n",
    "# k.\n",
    "print(countries[::-2])\n",
    "\n",
    "# l.\n",
    "print(countries[1:100:2])\n",
    "\n",
    "# m.\n",
    "print(countries[len(countries)-1:0:2])\n",
    "\n",
    "# n.\n",
    "print(countries[4:1:-1])\n",
    "\n",
    "# o.\n",
    "print(list(enumerate(countries)))"
   ]
  },
  {
   "cell_type": "code",
   "execution_count": 125,
   "metadata": {},
   "outputs": [
    {
     "name": "stdout",
     "output_type": "stream",
     "text": [
      "{'a': 1, 'b': 2, 'c': 3, 'd': 4}\n",
      "{'a': 1, 'b': 2, 'c': 3, 'd': 4, 'pl': 'python', 'version': 3.1}\n",
      "{'Duy': ['Python', 'Database', 'ML'], 'Laxmi': ['Python', 'Database', 'ML'], 'Antonio': ['Python', 'Database', 'ML'], 'Maria': ['Python', 'Database', 'ML']}\n",
      "{'Duy': ['Python', 'Database', 'ML'], 'Laxmi': ['Python', 'Database', 'ML'], 'Antonio': ['Python', 'Database', 'ML'], 'Maria': ['Python', 'Database', 'ML']}\n",
      "{'Duy': ['Python', 'Database', 'ML'], 'Laxmi': ['Python', 'Database', 'ML'], 'Antonio': ['JavaScript', 'Database', 'NodeJS'], 'Maria': ['Python', 'Database', 'ML']}\n",
      "{'Duy': ['Python', 'Database', 'ML'], 'Laxmi': ['Python', 'Database', 'ML'], 'Antonio': ['JavaScript', 'Database', 'NodeJS', 'ReactJs'], 'Maria': ['Python', 'Database', 'ML']}\n",
      "{'Duy': ['Python', 'Database', 'ML'], 'Laxmi': ['Python', 'Database', 'ML'], 'Antonio': ['JavaScript', 'Database', 'NodeJS', 'Vuejs'], 'Maria': ['Python', 'Database', 'ML']}\n",
      "{'Duy': ['Python', 'Database', 'ML'], 'Laxmi': ['Python', 'Database', 'ML'], 'Antonio': ['JavaScript', 'Database', 'NodeJS', 'Vuejs']}\n"
     ]
    }
   ],
   "source": [
    "# Task 6\n",
    "# a\n",
    "x =  [\"a\",\"b\",\"c\",\"d\"]\n",
    "y = [1, 2, 3, 4]\n",
    "new_dict = dict(zip(x,y))\n",
    "print(new_dict)\n",
    "\n",
    "# b\n",
    "info = {\"pl\":\"python\", \"version\":3.10}\n",
    "new_dict.update(info)\n",
    "print(new_dict)\n",
    "\n",
    "# c\n",
    "Students=[\"Duy\", \"Laxmi\",\"Antonio\",\"Maria\"]\n",
    "Course = [\"Python\",\"Database\",\"ML\"] \n",
    "task_c = dict()\n",
    "# solution 1\n",
    "for i in Students:\n",
    "    task_c[i] = Course\n",
    "print(task_c)\n",
    "\n",
    "# Solution 2\n",
    "task_c1 = lambda: {student: Course for student in Students}\n",
    "print(task_c1())\n",
    "\n",
    "# d\n",
    "task_c[\"Antonio\"] = [\"JavaScript\",\"Database\",\"NodeJS\"]\n",
    "print(task_c)\n",
    "\n",
    "# e\n",
    "task_c[\"Antonio\"].append(\"ReactJs\")\n",
    "print(task_c)\n",
    "\n",
    "# f\n",
    "task_c[\"Antonio\"][-1] = \"Vuejs\"\n",
    "print(task_c)\n",
    "\n",
    "# g\n",
    "del task_c[\"Maria\"]   # solution 1\n",
    "# task_c.pop(\"Maria\") # solution 2\n",
    "# task_c.popitem()    # solution 3\n",
    "print(task_c)\n"
   ]
  },
  {
   "cell_type": "code",
   "execution_count": null,
   "metadata": {},
   "outputs": [],
   "source": []
  }
 ],
 "metadata": {
  "kernelspec": {
   "display_name": "Python 3 (ipykernel)",
   "language": "python",
   "name": "python3"
  },
  "language_info": {
   "codemirror_mode": {
    "name": "ipython",
    "version": 3
   },
   "file_extension": ".py",
   "mimetype": "text/x-python",
   "name": "python",
   "nbconvert_exporter": "python",
   "pygments_lexer": "ipython3",
   "version": "3.9.13"
  }
 },
 "nbformat": 4,
 "nbformat_minor": 4
}
