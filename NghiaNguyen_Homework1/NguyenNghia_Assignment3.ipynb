{
 "cells": [
  {
   "cell_type": "code",
   "execution_count": 15,
   "id": "a6ce392c",
   "metadata": {},
   "outputs": [],
   "source": [
    "from functools import reduce"
   ]
  },
  {
   "cell_type": "code",
   "execution_count": 18,
   "id": "b95b357d",
   "metadata": {},
   "outputs": [
    {
     "name": "stdout",
     "output_type": "stream",
     "text": [
      "[1, 4, 9, 16, 25, 36, 49, 64, 81]\n",
      "[2, 4, 6, 8]\n",
      "384\n"
     ]
    }
   ],
   "source": [
    "list_num = list(range(1,10))\n",
    "\n",
    "def square_func(n):\n",
    "    result = n * n\n",
    "    return result\n",
    "    \n",
    "squares = list(map(square_func, list_num))\n",
    "print(squares)\n",
    "\n",
    "def even_number(n):\n",
    "    if n%2 != 0:\n",
    "        return False\n",
    "    else:\n",
    "        return True\n",
    "    \n",
    "even_num = list(filter(even_number, list_num))\n",
    "print(even_num)\n",
    "\n",
    "def product_func(x, y):\n",
    "    return x * y\n",
    "\n",
    "product = reduce(product_func, even_num)\n",
    "print(product)"
   ]
  }
 ],
 "metadata": {
  "kernelspec": {
   "display_name": "Python 3 (ipykernel)",
   "language": "python",
   "name": "python3"
  },
  "language_info": {
   "codemirror_mode": {
    "name": "ipython",
    "version": 3
   },
   "file_extension": ".py",
   "mimetype": "text/x-python",
   "name": "python",
   "nbconvert_exporter": "python",
   "pygments_lexer": "ipython3",
   "version": "3.9.13"
  }
 },
 "nbformat": 4,
 "nbformat_minor": 5
}
