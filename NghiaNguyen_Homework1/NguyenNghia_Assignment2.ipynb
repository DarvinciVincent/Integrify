{
 "cells": [
  {
   "cell_type": "code",
   "execution_count": null,
   "id": "a6ce392c",
   "metadata": {},
   "outputs": [],
   "source": [
    "import math "
   ]
  },
  {
   "cell_type": "code",
   "execution_count": 8,
   "id": "39a0fb0c",
   "metadata": {},
   "outputs": [
    {
     "name": "stdout",
     "output_type": "stream",
     "text": [
      "The area of circle is 314.16\n",
      "The perimeter of circle is 62.83\n"
     ]
    },
    {
     "data": {
      "text/plain": [
       "['Python', 'Database']"
      ]
     },
     "execution_count": 8,
     "metadata": {},
     "output_type": "execute_result"
    }
   ],
   "source": [
    "## Conditionals\n",
    "\n",
    "# Task 1 and 2\n",
    "\"\"\"\n",
    "Get the radius value as input and calculate the area of the circle. If the input is numeric, display the result otherwise display any other message.\n",
    "If the user enters numeric value then asks user to for either perimeter or area calculation and display accordingly\n",
    "\"\"\"\n",
    "radius_input = float(input(\"Please input the radius value: \"))\n",
    "if isinstance(radius_input, (int,float)):\n",
    "    circle_area = math.pi * (radius_input ** 2)\n",
    "    perimeter = math.pi * radius_input * 2\n",
    "    print(f\"The area of circle is {circle_area:.2f}\")\n",
    "    print(f\"The perimeter of circle is {perimeter:.2f}\")\n",
    "\n",
    "else:\n",
    "    print(\"The radius input should be int or float type\")\n",
    "    \n",
    "# Task 3\n",
    "# Check if there is a student named 'Maria' in students_profile dictionary. If exists remove 'ML' from her course\n",
    "\n",
    "\n",
    "students_profile = {'Duy': ['Python', 'Database', 'ML'],\n",
    "                   'Laxmi': ['Python', 'Database', 'ML'],\n",
    "                   'Antonio': ['Python', 'Database', 'ML'],\n",
    "                   'Maria': ['Python', 'Database', 'ML']}\n",
    "\n",
    "if \"Maria\" in students_profile.keys():\n",
    "    students_profile[\"Maria\"].pop()\n",
    "\n",
    "students_profile[\"Maria\"]"
   ]
  },
  {
   "cell_type": "code",
   "execution_count": 9,
   "id": "27bb9eb3",
   "metadata": {},
   "outputs": [
    {
     "name": "stdout",
     "output_type": "stream",
     "text": [
      "Substring is present in the string\n"
     ]
    }
   ],
   "source": [
    "# Task 1\n",
    "\"\"\"\n",
    "Take the input from the user as a substring. If that substring is present in string then display substring\n",
    "is present otherwise substring is not present\n",
    "\"\"\"\n",
    "\n",
    "string = input(\"Enter a string: \")\n",
    "substring = input(\"Enter a substring: \")\n",
    "\n",
    "if substring in string:\n",
    "    print(\"Substring is present in the string\")\n",
    "else:\n",
    "    print(\"Substring is not present in the string\")"
   ]
  },
  {
   "cell_type": "code",
   "execution_count": null,
   "id": "8774c0f9",
   "metadata": {},
   "outputs": [],
   "source": [
    "# Task 2\n",
    "# Define the points\n",
    "p1 = (1, 2, 3)\n",
    "p2 = (4, 5, 6)\n",
    "\n",
    "# Take user input for the order of distance metric\n",
    "order = int(input(\"Enter the order of the distance metric (1, 2, or 3): \"))\n",
    "\n",
    "# Calculate the distance based on the user's input\n",
    "if order == 1:\n",
    "    distance = sum(abs(a-b) for a, b in zip(p1, p2))\n",
    "    print(f\"L1 norm (Manhattan distance) between {p1} and {p2} is {distance:.2f}\")\n",
    "elif order == 2:\n",
    "    distance = sum((a-b)**2 for a, b in zip(p1, p2))**0.5\n",
    "    print(f\"L2 norm (Euclidean distance) between {p1} and {p2} is {distance:.2f}\")\n",
    "elif order == 3:\n",
    "    distance = sum(abs(a-b)**3 for a, b in zip(p1, p2))**(1/3)\n",
    "    print(f\"Minkowski distance with order 3 between {p1} and {p2} is {distance:.2f}\")\n",
    "else:\n",
    "    print(\"Invalid order. Please enter 1, 2, or 3.\") \n"
   ]
  },
  {
   "cell_type": "code",
   "execution_count": null,
   "id": "69a81e86",
   "metadata": {},
   "outputs": [],
   "source": [
    "## Loops\n",
    "# Task 1\n",
    "\"\"\"\n",
    "Write a multiplication table for any given number using both for and while loop\n",
    "\"\"\"\n",
    "\n",
    "num = int(input(\"Input the number you want: \"))\n",
    "for i in range(num):\n",
    "    print(\"Welcome to Integrify\")\n",
    "\n",
    "i = 1\n",
    "while i < num:\n",
    "    i  += 1\n",
    "    print(\"Welcome to Machine Learning\")"
   ]
  },
  {
   "cell_type": "code",
   "execution_count": null,
   "id": "19c098df",
   "metadata": {},
   "outputs": [],
   "source": [
    "mapper={\"T\":\"A\",\"A\":\"T\",\"G\":\"C\",\"C\":\"G\"}\n",
    "dna_template='AATCCGAAAATTCGGGAATTTTCGCGT'\n",
    "\n",
    "for i in dna_template:\n",
    "    dna_template += mapper.get(i)\n",
    "\n",
    "dna_template"
   ]
  },
  {
   "cell_type": "code",
   "execution_count": null,
   "id": "fafa342f",
   "metadata": {},
   "outputs": [],
   "source": [
    "# Fibonacci series\n",
    "f_series = [0, 1]\n",
    "\n",
    "number = int(input(\"how many numbers you want to add to the list f_series: \"))\n",
    "\n",
    "for i in range(number):\n",
    "    add_number = f_series[-1] + f_series[-2]\n",
    "    f_series.append(add_number)\n",
    "print(f_series)"
   ]
  },
  {
   "cell_type": "code",
   "execution_count": null,
   "id": "aa49b9e6",
   "metadata": {},
   "outputs": [],
   "source": [
    "# Generate a list of n numbers of prime numbers\n",
    "def generate_primes(n):\n",
    "    primes = []\n",
    "    num = 2\n",
    "    while len(primes) < n:\n",
    "        is_prime = True\n",
    "        for i in range(2, int(num ** 0.5) + 1):\n",
    "            if num % i == 0:\n",
    "                is_prime = False\n",
    "                break\n",
    "        if is_prime:\n",
    "            primes.append(num)\n",
    "        num += 1\n",
    "    return primes"
   ]
  },
  {
   "cell_type": "code",
   "execution_count": null,
   "id": "41e4cccf",
   "metadata": {},
   "outputs": [],
   "source": [
    "# Perform the minmax normalization to the range [0,1] for the data1 and minmax normalization to the range [-1,1] for the data2\n",
    "data1=[1,17,12,15,30,60,48,51,89,92,54,8]\n",
    "\n",
    "normalized_data1 = []\n",
    "for i in data1:\n",
    "    normalized_element = (i-min(data1))/(max(data1)-min(data1))\n",
    "    normalized_data1.append(normalized_element)\n",
    "\n",
    "print(normalized_data1)\n",
    "\n",
    "data2=[-13,2,-1,7,22,-32,5,15,-9,13,3,-2]\n",
    "\n",
    "normalized_data2 = [(x - min(data2)) / (max(data2) - min(data2)) * 2 - 1 for x in data2]\n",
    "\n",
    "print(normalized_data2)\n"
   ]
  },
  {
   "cell_type": "code",
   "execution_count": 2,
   "id": "83064751",
   "metadata": {},
   "outputs": [
    {
     "name": "stdout",
     "output_type": "stream",
     "text": [
      "10000\n",
      "Bubble sort:  4.270505905151367\n",
      "Selection sort:  1.8084657192230225\n",
      "Insertion sort:  0.0009968280792236328\n"
     ]
    }
   ],
   "source": [
    "# Bubble Sort\n",
    "\n",
    "def bubble_sort(arr):\n",
    "    n = len(arr)\n",
    "    for i in range(n):\n",
    "        for j in range(0, n-i-1):\n",
    "            if arr[j] > arr[j+1]:\n",
    "                arr[j], arr[j+1] = arr[j+1], arr[j]\n",
    "    return arr\n",
    "\n",
    "\n",
    "def selection_sort(arr):\n",
    "    n = len(arr)\n",
    "    for i in range(n):\n",
    "        min_idx = i\n",
    "        for j in range(i+1, n):\n",
    "            if arr[j] < arr[min_idx]:\n",
    "                min_idx = j\n",
    "        arr[i], arr[min_idx] = arr[min_idx], arr[i]\n",
    "    return arr\n",
    "\n",
    "def insertion_sort(arr):\n",
    "    n = len(arr)\n",
    "    for i in range(1, n):\n",
    "        key = arr[i]\n",
    "        j = i-1\n",
    "        while j >=0 and key < arr[j] :\n",
    "                arr[j+1] = arr[j]\n",
    "                j -= 1\n",
    "        arr[j+1] = key\n",
    "    return arr\n",
    "\n",
    "import time\n",
    "import random\n",
    "# Generate a list of random integers\n",
    "arr = [random.randint(0, 1000) for _ in range(10000)]\n",
    "print(len(arr))\n",
    "\n",
    "# Measure the execution time of each algorithm\n",
    "start_time = time.time()\n",
    "sorted_arr = bubble_sort(arr)\n",
    "end_time = time.time()\n",
    "print(\"Bubble sort: \", end_time - start_time)\n",
    "\n",
    "start_time = time.time()\n",
    "sorted_arr = selection_sort(arr)\n",
    "end_time = time.time()\n",
    "print(\"Selection sort: \", end_time - start_time)\n",
    "\n",
    "start_time = time.time()\n",
    "sorted_arr = insertion_sort(arr)\n",
    "end_time = time.time()\n",
    "print(\"Insertion sort: \", end_time - start_time)"
   ]
  },
  {
   "cell_type": "code",
   "execution_count": null,
   "id": "6af69451",
   "metadata": {},
   "outputs": [],
   "source": [
    "# Write a function **factorial** of a given number\n",
    "\n",
    "def factorial_func(num):\n",
    "    \"\"\"\n",
    "    :param num: (int) the given number that user want to get factorial of it\n",
    "    :return: result: (int) the factorial number of the given number\n",
    "    \"\"\"\n",
    "    result = 1\n",
    "    while num > 1:\n",
    "        result *= num\n",
    "        num -= 1\n",
    "    return result\n",
    "\n",
    "result = factorial_func(5)\n",
    "print(result)\n",
    "\n"
   ]
  },
  {
   "cell_type": "code",
   "execution_count": null,
   "id": "cc8e868c",
   "metadata": {},
   "outputs": [],
   "source": [
    "\"\"\"\n",
    "Write a function that takes two arguments: activation\\_function name and value that returns the output of specific activation\\_function. \n",
    "Implement for **sigmoid, binary step function, relu, leaky rely, tanh**.\n",
    "\"\"\"\n",
    "import math\n",
    "\n",
    "\n",
    "def activation_function(name, value):\n",
    "    if name == \"sigmoid\":\n",
    "        return 1 / (1 + math.exp(-value))\n",
    "    elif name == \"relu\":\n",
    "        return max(0, value)\n",
    "    elif name == \"leaky rely\":\n",
    "        return max(0.01*value, value)\n",
    "    elif name == \"tanh\":\n",
    "        return math.tanh(value)\n",
    "    else:\n",
    "        raise ValueError('Invalid activation function name')"
   ]
  },
  {
   "cell_type": "code",
   "execution_count": null,
   "id": "77ebf107",
   "metadata": {},
   "outputs": [],
   "source": [
    "# Write a function that returns **permutation**.\n",
    "    \n",
    "def factorial_func(num):\n",
    "    \"\"\"\n",
    "    :param num: (int) the given number that user want to get factorial of it\n",
    "    :return: result: (int) the factorial number of the given number\n",
    "    \"\"\"\n",
    "    result = 1\n",
    "    while num > 1:\n",
    "        result *= num\n",
    "        num -= 1\n",
    "    return result\n",
    "\n",
    "\n",
    "def permutation(n ,r):\n",
    "    P = factorial_func(n) / factorial_func(n-r)\n",
    "    return P\n",
    "\n",
    "def combination(n ,r):\n",
    "    C = factorial_func(n) / (factorial_func(n-r) * factorial_func(r))\n",
    "    return C\n",
    "\n",
    "def function_A(funcs=[\"permutation\", \"combination\", \"both\"], n=10, r=5):\n",
    "    if \"permutation\" in funcs:\n",
    "        result = permutation(n, r)\n",
    "        print(f\"Permutation of {n} and {r} is {result}\")\n",
    "    elif \"combination\" in funcs:\n",
    "        result = combination(n, r)\n",
    "        print(f\"Combination of {n} and {r} is {result}\")\n",
    "    elif \"both\" in funcs:\n",
    "        result1 = permutation(n, r)\n",
    "        result2 = combination(n, r)\n",
    "        print(f\"Permutation of {n} and {r} is {result1}\")\n",
    "        print(f\"Combination of {n} and {r} is {result2}\")\n",
    "    else:\n",
    "        raise ValueError(\"Choose permutation or combination or nothing\")\n",
    "    \n",
    "function_A()\n",
    "function_A(\"permutation\")\n",
    "function_A(\"combination\")\n",
    "function_A(\"both\")\n",
    "function_A(\"both\",8,6)\n"
   ]
  },
  {
   "cell_type": "code",
   "execution_count": null,
   "id": "a592660a",
   "metadata": {},
   "outputs": [],
   "source": [
    "#   Implement a function that takes **any number of positional and keyword arguments**.\n",
    "def example_function(*args, **kwargs):\n",
    "    # The *args parameter collects any positional arguments into a tuple.\n",
    "    print(\"Positional arguments:\")\n",
    "    for arg in args:\n",
    "        print(arg)\n",
    "        \n",
    "    # The **kwargs parameter collects any keyword arguments into a dictionary.\n",
    "    print(\"Keyword arguments:\")\n",
    "    for key, value in kwargs.items():\n",
    "        print(f\"{key}: {value}\")\n",
    "\n",
    "example_function(\"positional_arg_1\", 2, 3.0, Integrify=\"Data Scientist\", Python_developer=\"Python\")\n",
    "\n"
   ]
  },
  {
   "cell_type": "code",
   "execution_count": null,
   "id": "3bb2cc17",
   "metadata": {},
   "outputs": [],
   "source": [
    "# Global variable\n",
    "global_var = \"Integrify\"\n",
    "\n",
    "def outer_function():\n",
    "    # Enclosing variable\n",
    "    enclosing_var = \"ML\"\n",
    "    \n",
    "    def inner_function():\n",
    "        # Local variable\n",
    "        local_var = \"Data Scientist\"\n",
    "        \n",
    "        # Access variables from outer scopes\n",
    "        print(local_var)\n",
    "        print(enclosing_var)\n",
    "        print(global_var)\n",
    "        \n",
    "    inner_function()\n",
    "\n",
    "outer_function()\n",
    "\n",
    "# Access global variable outside of any function\n",
    "print(global_var)\n",
    "\n"
   ]
  },
  {
   "cell_type": "code",
   "execution_count": null,
   "id": "dc46c755",
   "metadata": {},
   "outputs": [],
   "source": []
  }
 ],
 "metadata": {
  "kernelspec": {
   "display_name": "Python 3 (ipykernel)",
   "language": "python",
   "name": "python3"
  },
  "language_info": {
   "codemirror_mode": {
    "name": "ipython",
    "version": 3
   },
   "file_extension": ".py",
   "mimetype": "text/x-python",
   "name": "python",
   "nbconvert_exporter": "python",
   "pygments_lexer": "ipython3",
   "version": "3.10.8"
  }
 },
 "nbformat": 4,
 "nbformat_minor": 5
}
