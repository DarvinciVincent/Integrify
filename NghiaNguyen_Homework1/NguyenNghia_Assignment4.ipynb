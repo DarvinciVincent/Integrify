{
 "cells": [
  {
   "cell_type": "code",
   "execution_count": 1,
   "id": "a6ce392c",
   "metadata": {},
   "outputs": [
    {
     "name": "stdout",
     "output_type": "stream",
     "text": [
      "1\n",
      "2\n",
      "3\n",
      "4\n",
      "5\n",
      "End of iterator\n",
      "0 1 10\n",
      "1 2 10\n",
      "2 3 10\n",
      "3 1 10\n",
      "4 2 10\n",
      "5 3 10\n",
      "6 1 10\n",
      "7 2 10\n",
      "8 3 10\n",
      "9 1 10\n",
      "Combinations: [('A', 'B'), ('A', 'C'), ('A', 'D'), ('B', 'C'), ('B', 'D'), ('C', 'D')]\n",
      "Product: [('A', 'A'), ('A', 'B'), ('A', 'C'), ('A', 'D'), ('B', 'A'), ('B', 'B'), ('B', 'C'), ('B', 'D'), ('C', 'A'), ('C', 'B'), ('C', 'C'), ('C', 'D'), ('D', 'A'), ('D', 'B'), ('D', 'C'), ('D', 'D')]\n",
      "Permutations: [('A', 'B'), ('A', 'C'), ('A', 'D'), ('B', 'A'), ('B', 'C'), ('B', 'D'), ('C', 'A'), ('C', 'B'), ('C', 'D'), ('D', 'A'), ('D', 'B'), ('D', 'C')]\n",
      "Combinations with replacement: [('A', 'A'), ('A', 'B'), ('A', 'C'), ('A', 'D'), ('B', 'B'), ('B', 'C'), ('B', 'D'), ('C', 'C'), ('C', 'D'), ('D', 'D')]\n",
      "0\n",
      "1\n",
      "1\n",
      "2\n",
      "3\n",
      "5\n",
      "8\n",
      "13\n",
      "21\n",
      "34\n"
     ]
    }
   ],
   "source": [
    "# Iterator and generator\n",
    "import itertools\n",
    "my_list = [1, 2, 3, 4, 5]\n",
    "my_iter = iter(my_list)\n",
    "\n",
    "while True:\n",
    "    try:\n",
    "        item = next(my_iter)\n",
    "        print(item)\n",
    "    except StopIteration:\n",
    "        print(\"End of iterator\")\n",
    "        break\n",
    "\n",
    "\n",
    "# Infinite iterator that counts up from 0\n",
    "count_iter = itertools.count()\n",
    "\n",
    "# Infinite iterator that cycles through the values in a list\n",
    "cycle_iter = itertools.cycle([1, 2, 3])\n",
    "\n",
    "# Infinite iterator that repeats the same value over and over\n",
    "repeat_iter = itertools.repeat(10)\n",
    "\n",
    "# Using the iterators\n",
    "for i in range(10):\n",
    "    print(next(count_iter), next(cycle_iter), next(repeat_iter))\n",
    "    \n",
    "    \n",
    "combinations = itertools.combinations(\"ABCD\", 2)\n",
    "product = itertools.product(\"ABCD\", repeat = 2)\n",
    "permutation = itertools.permutations(\"ABCD\", 2)\n",
    "combinations_with_replacement = itertools.combinations_with_replacement(\"ABCD\", 2)\n",
    "\n",
    "\n",
    "print(\"Combinations:\", [i for i in combinations])\n",
    "print(\"Product:\", [i for i in product])\n",
    "print(\"Permutations:\", [i for i in permutation])\n",
    "print(\"Combinations with replacement:\", [i for i in combinations_with_replacement])\n",
    "\n",
    "def fibonacci():\n",
    "    a, b = 0, 1\n",
    "    while True:\n",
    "        yield a\n",
    "        a, b = b, a + b\n",
    "\n",
    "fib_iter = fibonacci()\n",
    "\n",
    "for i in range(10):\n",
    "    print(next(fib_iter))"
   ]
  },
  {
   "cell_type": "code",
   "execution_count": 15,
   "id": "a142a16f",
   "metadata": {},
   "outputs": [
    {
     "name": "stdout",
     "output_type": "stream",
     "text": [
      "[9, 18, 27, 36, 45, 54, 63, 72, 81, 90]\n"
     ]
    }
   ],
   "source": [
    "# Write a multiplication table of any given number in a list using list comprehension\n",
    "\n",
    "def multiplication(n):\n",
    "    multiplication_table = [n*i for i in range(1,11)]\n",
    "    print([i for i in multiplication_table])\n",
    "\n",
    "multiplication(9)  \n",
    "    "
   ]
  },
  {
   "cell_type": "code",
   "execution_count": 18,
   "id": "cad80c2e",
   "metadata": {},
   "outputs": [
    {
     "data": {
      "text/plain": [
       "[5,\n",
       " 15,\n",
       " 25,\n",
       " 35,\n",
       " 45,\n",
       " 50,\n",
       " 51,\n",
       " 52,\n",
       " 53,\n",
       " 54,\n",
       " 55,\n",
       " 56,\n",
       " 57,\n",
       " 58,\n",
       " 59,\n",
       " 65,\n",
       " 75,\n",
       " 85,\n",
       " 95,\n",
       " 105,\n",
       " 115,\n",
       " 125,\n",
       " 135,\n",
       " 145,\n",
       " 150,\n",
       " 151,\n",
       " 152,\n",
       " 153,\n",
       " 154,\n",
       " 155,\n",
       " 156,\n",
       " 157,\n",
       " 158,\n",
       " 159,\n",
       " 165,\n",
       " 175,\n",
       " 185,\n",
       " 195,\n",
       " 205,\n",
       " 215,\n",
       " 225,\n",
       " 235,\n",
       " 245,\n",
       " 250,\n",
       " 251,\n",
       " 252,\n",
       " 253,\n",
       " 254,\n",
       " 255,\n",
       " 256,\n",
       " 257,\n",
       " 258,\n",
       " 259,\n",
       " 265,\n",
       " 275,\n",
       " 285,\n",
       " 295,\n",
       " 305,\n",
       " 315,\n",
       " 325,\n",
       " 335,\n",
       " 345,\n",
       " 350,\n",
       " 351,\n",
       " 352,\n",
       " 353,\n",
       " 354,\n",
       " 355,\n",
       " 356,\n",
       " 357,\n",
       " 358,\n",
       " 359,\n",
       " 365,\n",
       " 375,\n",
       " 385,\n",
       " 395,\n",
       " 405,\n",
       " 415,\n",
       " 425,\n",
       " 435,\n",
       " 445,\n",
       " 450,\n",
       " 451,\n",
       " 452,\n",
       " 453,\n",
       " 454,\n",
       " 455,\n",
       " 456,\n",
       " 457,\n",
       " 458,\n",
       " 459,\n",
       " 465,\n",
       " 475,\n",
       " 485,\n",
       " 495,\n",
       " 500]"
      ]
     },
     "execution_count": 18,
     "metadata": {},
     "output_type": "execute_result"
    }
   ],
   "source": [
    "# Find all numbers from 1 to 500 that has 5 in them\n",
    "list = []\n",
    "list_five = [x for x in range(1, 501) if \"5\" in str(x)]\n",
    "list_five"
   ]
  },
  {
   "cell_type": "code",
   "execution_count": 10,
   "id": "bb0ec3ab",
   "metadata": {},
   "outputs": [
    {
     "name": "stdout",
     "output_type": "stream",
     "text": [
      "[True, 10, 20, 30, 4.0, False, 0]\n",
      "[False, True, True, False, True, True, False, False, False, False, True, True]\n",
      "['dog1.png', 'dog2.png', 'dog3.png']\n",
      "['cat1.png', 'cat2.png', 'cat3.png', 'cat4.png', 'cat5.png', 'cat6.png']\n"
     ]
    }
   ],
   "source": [
    "# Generate the list of non-string values\n",
    "list_of_items=[\"apple\",True,10,\"banana\",20,30,4.0,\"grapes\",\"laptop\",\"phone\", False,0]\n",
    "\n",
    "non_string_list = [x for x in list_of_items if not isinstance(x, str)]\n",
    "print(non_string_list)\n",
    "\n",
    "# Generate the boolean True for numeric and False for non-numeric in above items list\n",
    "def numeric(x):\n",
    "    if isinstance(x, int):\n",
    "        return True\n",
    "    else:\n",
    "        return False\n",
    "numeric_list = list(map(numeric, list_of_items))\n",
    "print(numeric_list)\n",
    "\n",
    "# Generate two lists of cat and dog image files\n",
    "files = [\"cat1.png\",\"dog1.png\",\"cat2.png\",\"cat3.png\",\"cat4.png\",\"dog2.png\",\"cat5.png\",\"cat6.png\",\"dog3.png\"]\n",
    "dogs_list = [x for x in files if \"dog\" in str(x)]\n",
    "cats_list = [x for x in files if \"cat\" in str(x)]\n",
    "print(dogs_list)\n",
    "print(cats_list)\n",
    "\n"
   ]
  },
  {
   "cell_type": "code",
   "execution_count": 12,
   "id": "70ee6b96",
   "metadata": {},
   "outputs": [
    {
     "data": {
      "text/plain": [
       "'TTAGGCTTTTAAGCCCTTAAAAGCGCA'"
      ]
     },
     "execution_count": 12,
     "metadata": {},
     "output_type": "execute_result"
    }
   ],
   "source": [
    "# Generate the complementary dna template using information form\n",
    "dna_template = 'AATCCGAAAATTCGGGAATTTTCGCGT'\n",
    "\n",
    "complement = {'A': 'T', 'T': 'A', 'G': 'C', 'C': 'G'}\n",
    "\n",
    "complementary_dna = ''.join([complement[base] for base in dna_template])\n",
    "\n",
    "complementary_dna"
   ]
  },
  {
   "cell_type": "code",
   "execution_count": 15,
   "id": "9117051b",
   "metadata": {},
   "outputs": [
    {
     "name": "stdout",
     "output_type": "stream",
     "text": [
      "For loop time: 2.5190365314483643\n",
      "List comprehension time: 1.9873919486999512\n"
     ]
    },
    {
     "data": {
      "text/plain": [
       "''"
      ]
     },
     "execution_count": 15,
     "metadata": {},
     "output_type": "execute_result"
    }
   ],
   "source": [
    "import time\n",
    "start_time = time.time()\n",
    "\n",
    "nums = []\n",
    "for i in range(1, 10000001):\n",
    "    nums.append(i**2)\n",
    "end_time = time.time()\n",
    "for_loop_time = end_time - start_time\n",
    "\n",
    "start_time = time.time()\n",
    "nums = [i**2 for i in range(1, 10000001)]\n",
    "end_time = time.time()\n",
    "list_comp_time = end_time - start_time\n",
    "\n",
    "print(\"For loop time:\", for_loop_time)\n",
    "print(\"List comprehension time:\", list_comp_time)\n",
    "\n",
    "\"\"\"\n",
    "The list comprehension is able to generate the list of squared numbers in a single line of code, which is more readable and \n",
    "easier to understand compared to the for loop. Additionally, list comprehension can often be faster than using a for loop \n",
    "because it runs at the C level, which is faster than running Python code at the interpreter level.\n",
    "\n",
    "The number of line code is also considerred as a category to evaluate the elegances of code. In this case, the list comprehension took only 1 line,\n",
    "otherwise, for loop time took 3 lines.\n",
    "\"\"\"  "
   ]
  },
  {
   "cell_type": "code",
   "execution_count": null,
   "id": "a6bb0ddf",
   "metadata": {},
   "outputs": [],
   "source": []
  }
 ],
 "metadata": {
  "kernelspec": {
   "display_name": "Python 3 (ipykernel)",
   "language": "python",
   "name": "python3"
  },
  "language_info": {
   "codemirror_mode": {
    "name": "ipython",
    "version": 3
   },
   "file_extension": ".py",
   "mimetype": "text/x-python",
   "name": "python",
   "nbconvert_exporter": "python",
   "pygments_lexer": "ipython3",
   "version": "3.9.13"
  }
 },
 "nbformat": 4,
 "nbformat_minor": 5
}
