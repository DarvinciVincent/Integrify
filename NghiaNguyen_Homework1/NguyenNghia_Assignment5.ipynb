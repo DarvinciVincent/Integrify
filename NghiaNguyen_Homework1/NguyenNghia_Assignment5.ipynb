{
 "cells": [
  {
   "cell_type": "code",
   "execution_count": 16,
   "id": "01c8587e",
   "metadata": {},
   "outputs": [
    {
     "name": "stdout",
     "output_type": "stream",
     "text": [
      "2\n",
      "2\n",
      "Saphie\n",
      "Micky\n",
      "6\n",
      "7\n",
      "there are no dogs here\n",
      "woof woof\n"
     ]
    }
   ],
   "source": [
    "class Pet:\n",
    "    pet_population = 0\n",
    "    pet_instance = []\n",
    "    current_year = 2023\n",
    "\n",
    "    def __init__(self, name, category, age):\n",
    "        self.name = name\n",
    "        self.category = category\n",
    "        self.age = age\n",
    "        Pet.pet_population += 1\n",
    "        Pet.pet_instance.append(self)\n",
    "\n",
    "    def hellofrompet(self):\n",
    "        print(f\"Hello, My name is {self.name}. I am a cute {self.category}.\")\n",
    "\n",
    "    @classmethod\n",
    "    def timepassedby(cls, year):\n",
    "        for pet in cls.pet_instance:\n",
    "            pet.age += year\n",
    "\n",
    "    def barks(self):\n",
    "        if self.category == \"Dog\":\n",
    "            print(\"woof woof\")\n",
    "        else:\n",
    "            print(\"there are no dogs here\")\n",
    "\n",
    "\n",
    "class Dog(Pet):\n",
    "    def __init__(self, name, category, age, breed=\"German Shepherd\"):\n",
    "        super().__init__(name, category, age)\n",
    "        self.category = \"Dog\"\n",
    "        self.breed = breed\n",
    "        \n",
    "        instance1 = Pet(\"Micky\", \"Cat\", 1)\n",
    "instance2 = Dog(\"Saphie\", \"Dog\", 2, \"German Shepherd\")\n",
    "\n",
    "print(Pet.pet_population)\n",
    "print(Dog.pet_population)\n",
    "\n",
    "for item in Pet.pet_instance:\n",
    "    print(item.name)\n",
    "\n",
    "Pet.timepassedby(5)\n",
    "print(instance1.age)\n",
    "print(instance2.age)\n",
    "\n",
    "instance1.barks()\n",
    "instance2.barks()"
   ]
  }
 ],
 "metadata": {
  "kernelspec": {
   "display_name": "Python 3 (ipykernel)",
   "language": "python",
   "name": "python3"
  },
  "language_info": {
   "codemirror_mode": {
    "name": "ipython",
    "version": 3
   },
   "file_extension": ".py",
   "mimetype": "text/x-python",
   "name": "python",
   "nbconvert_exporter": "python",
   "pygments_lexer": "ipython3",
   "version": "3.9.13"
  }
 },
 "nbformat": 4,
 "nbformat_minor": 5
}
