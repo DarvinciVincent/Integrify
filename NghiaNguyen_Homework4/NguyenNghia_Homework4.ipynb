{
 "cells": [
  {
   "cell_type": "code",
   "execution_count": 45,
   "id": "ff99d466",
   "metadata": {},
   "outputs": [],
   "source": [
    "import math\n",
    "import numpy as np\n",
    "import scipy.stats"
   ]
  },
  {
   "cell_type": "markdown",
   "id": "99984601",
   "metadata": {},
   "source": [
    "1. Suppose we want to test whether the mean weight of apples in a grocery store is 150 grams. We randomly sample 20 apples from the store and measure their weights, getting the following data:\n",
    "\n",
    "Apple_weights = [145, 155, 160, 146, 142, 152, 150, 147, 148, 149, 148, 152, 153, 155, 154, 148, 151, 147, 153, 146]\n",
    "\n",
    "What test should we use and why?\n",
    "State the null and alternative hypotheses.\n",
    "Choose a significance level (α) (the probability of rejecting the null hypothesis when it is actually true).\n",
    "Determine the degrees of freedom (df) of the sample.\n",
    "Determine the critical value of t based on the significance level and degrees of freedom. For a two-tailed test with α = 0.05 and df = 19, the critical values are -2.093 and 2.093.\n",
    "Compare and interpret the results of the test to the critical value \n"
   ]
  },
  {
   "cell_type": "code",
   "execution_count": 46,
   "id": "0e2bc198",
   "metadata": {
    "scrolled": true
   },
   "outputs": [
    {
     "name": "stdout",
     "output_type": "stream",
     "text": [
      "Degrees of freedom: 19\n",
      "Two-tailed critical value: 2.093\n",
      "Sample standard deviation: 4.26\n",
      "Calculated t-statistic: 0.05\n",
      "Fail to reject null hypothesis (Accept H0). The mean of the poplulation is equal to  150\n"
     ]
    }
   ],
   "source": [
    "# In this case, we use one-sample t-test as f there is one group being compared against a standard value \n",
    "Apple_weights = [145, 155, 160, 146, 142, 152, 150, 147, 148, 149, 148, 152, 153, 155, 154, 148, 151, 147, 153, 146]\n",
    "random_sample = np.array(Apple_weights)\n",
    "# Null hypothesis\n",
    "H0 = 150\n",
    "\n",
    "n = len(random_sample)\n",
    "\n",
    "# Degree of freedom\n",
    "df = n - 1\n",
    "print(\"Degrees of freedom:\", df)\n",
    "\n",
    "# significance level\n",
    "significance_level = 0.05\n",
    "\n",
    "critical_value = scipy.stats.t.ppf(1 - significance_level / 2, df)\n",
    "print(\"Two-tailed critical value:\", round(critical_value, 3))\n",
    "\n",
    "std = np.std(random_sample, ddof = 1)\n",
    "print(\"Sample standard deviation:\", round(std, 2))\n",
    "\n",
    "t_statistic = (random_sample.mean() - H0) / (std / math.sqrt(n))\n",
    "print(\"Calculated t-statistic:\", round(t_statistic, 2))\n",
    "\n",
    "# p_value = 2 * t.sf(abs(t_statistic), n -1)\n",
    "# p_value = scipy.stats.norm.sf(abs(1.8))*2\n",
    "# print(\"p_value = \", p_value)\n",
    "\n",
    "# Decision Rules\n",
    "if t_statistic > critical_value:\n",
    "    print(\"Reject null hypothesis. The mean of the population is NOT equal to\", H0)\n",
    "else:\n",
    "    print(\"Fail to reject null hypothesis (Accept H0). The mean of the poplulation is equal to \", H0)"
   ]
  },
  {
   "cell_type": "markdown",
   "id": "f69b8601",
   "metadata": {},
   "source": [
    "2.Suppose we want to test whether the mean height of all men in a population is 180 cm assuming that the population standard deviation = 2. We randomly sample 50 men from the population and measure their heights, getting the following data:\n",
    "\n",
    "Men_height = [177, 180, 182, 179, 178, 181, 176, 183, 179, 180, 178, 181, 177, 178, 180, 179, 182, 180, 183, 181, 179, 177, 180, 181, 178, 180, 182, 179, 177, 182, 178, 181, 183, 179, 180, 181, 183, 178, 177, 181, 179, 182, 180, 181, 178, 180, 179, 181, 183, 179]\n",
    "\n",
    "What test should we use and why?\n",
    "State the null and alternative hypotheses.\n",
    "Choose a significance level (α) (the probability of rejecting the null hypothesis when it is actually true).\n",
    "Determine the degrees of freedom (df) of the sample. \n",
    "Determine the critical value of t based on the significance level and degrees of freedom. For a two-tailed test with α = 0.05 and df = 19, the critical values are -2.093 and 2.093.\n",
    "Compare and interpret the results of the test to the critical value"
   ]
  },
  {
   "cell_type": "code",
   "execution_count": 47,
   "id": "f6523662",
   "metadata": {
    "scrolled": true
   },
   "outputs": [
    {
     "name": "stdout",
     "output_type": "stream",
     "text": [
      "[177 180 182 179 178 181 176 183 179 180 178 181 177 178 180 179 182 180\n",
      " 183 181 179 177 180 181 178 180 182 179 177 182 178 181 183 179 180 181\n",
      " 183 178 177 181 179 182 180 181 178 180 179 181 183 179]\n",
      "Degrees of freedom: 49\n",
      "Two-tailed critical value: 2.0096\n",
      "Sample standard deviation: 2\n",
      "Calculated t-statistic: -0.57\n",
      "Fail to reject null hypothesis (Accept H0). The mean of the poplulation is equal to  180\n"
     ]
    }
   ],
   "source": [
    "# In this case, we use one-sample t-test as f there is one group being compared against a standard value \n",
    "Men_height = [177, 180, 182, 179, 178, 181, 176, 183, 179, 180, 178, 181, 177, 178, 180, 179, 182, 180, 183, 181, 179, 177, 180, 181, 178, 180, 182, 179, 177, 182, 178, 181, 183, 179, 180, 181, 183, 178, 177, 181, 179, 182, 180, 181, 178, 180, 179, 181, 183, 179]\n",
    "random_sample = np.array(Men_height)\n",
    "print(random_sample)\n",
    "                          \n",
    "# Null hypothesis\n",
    "H0 = 180\n",
    "\n",
    "n = len(random_sample)\n",
    "\n",
    "# Degree of freedom\n",
    "df = n - 1\n",
    "print(\"Degrees of freedom:\", df)\n",
    "\n",
    "# significance level\n",
    "significance_level = 0.05\n",
    "\n",
    "critical_value = scipy.stats.t.ppf(1 - significance_level / 2, df)\n",
    "print(\"Two-tailed critical value:\", round(critical_value, 4))\n",
    "\n",
    "std = 2\n",
    "print(\"Sample standard deviation:\", round(std, 2))\n",
    "\n",
    "t_statistic = (random_sample.mean() - H0) / (std / math.sqrt(n))\n",
    "print(\"Calculated t-statistic:\", round(t_statistic, 2))\n",
    "\n",
    "# p_value = 2 * t.sf(abs(t_value), n -1)\n",
    "# p_value = scipy.stats.norm.sf(abs(1.8))*2\n",
    "# print(\"p_value = \", p_value)\n",
    "\n",
    "# Decision Rules\n",
    "if t_statistic > critical_value:\n",
    "    print(\"Reject null hypothesis. The mean of the population is NOT equal to\", H0)\n",
    "else:\n",
    "    print(\"Fail to reject null hypothesis (Accept H0). The mean of the poplulation is equal to \", H0)"
   ]
  },
  {
   "cell_type": "markdown",
   "id": "69e65512",
   "metadata": {},
   "source": [
    "Suppose we want to test whether the mean weight of a population of cats is different from 4 kg. We randomly sample 50 cats from the population and measure their weights, getting the following data:\n",
    "\n",
    "Cats_weights = [3.9, 4.2, 4.5, 4.1, 4.3, 3.8, 4.6, 4.2, 3.7, 4.3, 3.9, 4.0, 4.1, 4.5, 4.2, 3.8, 3.9, 4.3, 4.1, 4.0, 4.4, 4.2, 4.1, 4.6, 4.4, 4.2, 4.1, 4.3, 4.0, 4.4, 4.3, 3.8, 4.1, 4.5, 4.2, 4.3, 4.0, 4.1, 4.2, 3.9, 4.3, 3.7, 4.1, 4.5, 4.2, 4.0, 4.2, 4.4, 4.1, 4.5]\n",
    "\n",
    "Perform one sample two tailed Z-Test to determine whether the mean weight of the sampled cats is significantly different from 4 kg.\n",
    "State the null and alternative hypotheses.\n",
    "Choose a significance level (α) (the probability of rejecting the null hypothesis when it is actually true).\n",
    "Calculate the z-score using the formula:\n",
    "\n",
    "Assuming that the standard deviation is equal to the sample mean\n",
    "Look up the critical z-value at the chosen significance level (α) using a z-table.\n",
    "Compare the calculated z-score to the critical z-values. If the calculated z-score falls outside the range between the critical z-values, we reject the null hypothesis in favor of the alternative hypothesis."
   ]
  },
  {
   "cell_type": "code",
   "execution_count": 48,
   "id": "db7e2036",
   "metadata": {},
   "outputs": [
    {
     "name": "stdout",
     "output_type": "stream",
     "text": [
      "[3.9 4.2 4.5 4.1 4.3 3.8 4.6 4.2 3.7 4.3 3.9 4.  4.1 4.5 4.2 3.8 3.9 4.3\n",
      " 4.1 4.  4.4 4.2 4.1 4.6 4.4 4.2 4.1 4.3 4.  4.4 4.3 3.8 4.1 4.5 4.2 4.3\n",
      " 4.  4.1 4.2 3.9 4.3 3.7 4.1 4.5 4.2 4.  4.2 4.4 4.1 4.5]\n",
      "Degrees of freedom: 49\n",
      "Two-tailed critical value: 2.0096\n",
      "Sample standard deviation: 0.23\n",
      "Calculated z_score: 5.23\n",
      "Calculated z_value: 1.96\n",
      "Reject null hypothesis. The mean of the population is NOT equal to 4\n",
      "As z-score falls outside the range between the critical z-values, we reject the null hypothesis\n"
     ]
    }
   ],
   "source": [
    "Cats_weights = [3.9, 4.2, 4.5, 4.1, 4.3, 3.8, 4.6, 4.2, 3.7, 4.3, 3.9, 4.0, 4.1, 4.5, 4.2, 3.8, 3.9, 4.3, 4.1, 4.0, 4.4, 4.2, 4.1, 4.6, 4.4, 4.2, 4.1, 4.3, 4.0, 4.4, 4.3, 3.8, 4.1, 4.5, 4.2, 4.3, 4.0, 4.1, 4.2, 3.9, 4.3, 3.7, 4.1, 4.5, 4.2, 4.0, 4.2, 4.4, 4.1, 4.5]\n",
    "\n",
    "random_sample = np.array(Cats_weights)\n",
    "print(random_sample)\n",
    "                          \n",
    "# Null hypothesis\n",
    "H0 = 4\n",
    "\n",
    "n = len(random_sample)\n",
    "\n",
    "# Degree of freedom\n",
    "df = n - 1\n",
    "print(\"Degrees of freedom:\", df)\n",
    "\n",
    "# significance level\n",
    "significance_level = 0.05\n",
    "\n",
    "critical_value = scipy.stats.t.ppf(1 - significance_level / 2, df)\n",
    "print(\"Two-tailed critical value:\", round(critical_value, 4))\n",
    "\n",
    "std = math.sqrt(sum([(x - random_sample.mean())**2 for x in random_sample]) / (n - 1))\n",
    "# std = np.std(random_sample, ddof=1)\n",
    "print(\"Sample standard deviation:\", round(std, 2))\n",
    "\n",
    "z_score = (random_sample.mean() - H0) / (std / math.sqrt(n))\n",
    "print(\"Calculated z_score:\", round(z_score, 2))\n",
    "\n",
    "# Looking up the critical z-value at a significance level of 0.05 in a z-table gives us ±1.96.\n",
    "# https://statisticsbyjim.com/hypothesis-testing/z-table/\n",
    "\n",
    "z_value = scipy.stats.norm.ppf(1 - significance_level/2)\n",
    "print(\"Calculated z_value:\", round(z_value, 2))\n",
    "\n",
    "# Decision Rules\n",
    "if abs(z_score) > z_value:\n",
    "    print(\"Reject null hypothesis. The mean of the population is NOT equal to\", H0)\n",
    "else:\n",
    "    print(\"Fail to reject null hypothesis (Accept H0). The mean of the poplulation is equal to \", H0)\n",
    "    \n",
    "print(\"As z-score falls outside the range between the critical z-values, we reject the null hypothesis\")"
   ]
  }
 ],
 "metadata": {
  "kernelspec": {
   "display_name": "Python 3 (ipykernel)",
   "language": "python",
   "name": "python3"
  },
  "language_info": {
   "codemirror_mode": {
    "name": "ipython",
    "version": 3
   },
   "file_extension": ".py",
   "mimetype": "text/x-python",
   "name": "python",
   "nbconvert_exporter": "python",
   "pygments_lexer": "ipython3",
   "version": "3.9.13"
  }
 },
 "nbformat": 4,
 "nbformat_minor": 5
}
